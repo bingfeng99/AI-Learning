{
 "cells": [
  {
   "cell_type": "code",
   "execution_count": 134,
   "id": "186baf1a-903a-4ebf-8b5f-6feff75150d8",
   "metadata": {},
   "outputs": [
    {
     "name": "stdout",
     "output_type": "stream",
     "text": [
      "自动筛选的特征列索引： [1, 2, 3, 4]\n",
      "特征数组X形状： (150, 4)\n"
     ]
    }
   ],
   "source": [
    "import numpy as np\n",
    "\n",
    "# 1. 读取原始数据（保留所有列的字符串格式，避免类型自动转换丢失信息）\n",
    "file_path = r\"C:\\Users\\77386\\Downloads\\Iris.csv\"\n",
    "raw_data = np.genfromtxt(file_path, delimiter=\",\", dtype=str)\n",
    "# raw_data形状：(150, 6)，6列分别是：ID、SepalLengthCm、SepalWidthCm、PetalLengthCm、PetalWidthCm、Species\n",
    "\n",
    "# 2. 分析每列的数据类型，判断是否为数值型特征列\n",
    "feature_columns = []  # 存储特征列的索引\n",
    "for col_idx in range(raw_data.shape[1]):\n",
    "    title = raw_data[0,col_idx]\n",
    "    index = np.array([\"SepalLengthCm\",\"SepalWidthCm\",\"PetalLengthCm\",\"PetalWidthCm\"])\n",
    "    for x in range(index.shape[0]):\n",
    "        if title == index[x]:\n",
    "            feature_columns.append(col_idx)\n",
    "        else:\n",
    "            pass\n",
    "\n",
    "# 3. 提取特征列（此时feature_columns应为[1,2,3,4]，对应第2-5列）\n",
    "X = raw_data[1:,feature_columns].astype(float)\n",
    "print(\"自动筛选的特征列索引：\", feature_columns)  # 输出 [1,2,3,4]\n",
    "print(\"特征数组X形状：\", X.shape)  # 输出 (150,4)，正确提取特征列"
   ]
  },
  {
   "cell_type": "code",
   "execution_count": 47,
   "id": "fa70a8af-28f7-4a7d-af2e-62b0a71ff7c4",
   "metadata": {},
   "outputs": [
    {
     "name": "stdout",
     "output_type": "stream",
     "text": [
      "[0 0 0 0]\n",
      "0\n"
     ]
    }
   ],
   "source": [
    "print(np.isnan(X).sum(axis=0))\n",
    "median_col = np.nanmedian(X,axis=0)\n",
    "X[np.isnan(X)] = median_col[np.where(np.isnan(X))[1]]\n",
    "print(np.isnan(X).sum())"
   ]
  },
  {
   "cell_type": "code",
   "execution_count": 112,
   "id": "51148ca7-e0b3-434b-8694-f599f5173af1",
   "metadata": {},
   "outputs": [
    {
     "name": "stdout",
     "output_type": "stream",
     "text": [
      "\n",
      "特征列统计量汇总：\n",
      "------------------------------------------------------------\n",
      "  特征            均值     标准差    最大值    最小值    \n",
      "------------------------------------------------------------\n",
      "花萼长度          5.84      0.83     7.9       4.3       \n",
      "花萼宽度          3.05      0.43     4.4       2.0       \n",
      "花瓣长度          3.76      1.76     6.9       1.0       \n",
      "花瓣宽度          1.20      0.76     2.5       0.1       \n"
     ]
    }
   ],
   "source": [
    "# 按列计算4个核心统计量\n",
    "col_mean = np.mean(X, axis=0)\n",
    "col_std = np.std(X, axis=0)\n",
    "col_max = np.max(X, axis=0)\n",
    "col_min = np.min(X, axis=0)\n",
    "\n",
    "# 输出表格形式\n",
    "print(\"\\n特征列统计量汇总：\")\n",
    "print(\"-\" * 60)\n",
    "print(f\"{'  特征':<16}{'均值':<7}{'标准差':<7}{'最大值':<7}{'最小值':<7}\")\n",
    "print(\"-\" * 60)\n",
    "features = [\"花萼长度\", \"花萼宽度\", \"花瓣长度\", \"花瓣宽度\"]\n",
    "for i in range(4):\n",
    "    print(f\"{features[i]:<14}{col_mean[i]:<10.2f}{col_std[i]:<9.2f}{col_max[i]:<10.1f}{col_min[i]:<10.1f}\")"
   ]
  },
  {
   "cell_type": "code",
   "execution_count": 114,
   "id": "f2fd3ebb-0f4e-49b5-8057-947885d7377c",
   "metadata": {},
   "outputs": [
    {
     "name": "stdout",
     "output_type": "stream",
     "text": [
      "\n",
      "标准化验证：\n",
      "各特征列均值： [-0. -0.  0. -0.]（应全为0.0）\n",
      "各特征列标准差：[1. 1. 1. 1.]（应全为1.0）\n"
     ]
    }
   ],
   "source": [
    "X_std = (X - col_mean) / col_std\n",
    "# 验证标准化结果（均值≈0，标准差≈1）\n",
    "std_mean = np.round(X_std.mean(axis=0), 2)\n",
    "std_std = np.round(X_std.std(axis=0), 2)\n",
    "print(\"\\n标准化验证：\")\n",
    "print(f\"各特征列均值： {std_mean}（应全为0.0）\")\n",
    "print(f\"各特征列标准差：{std_std}（应全为1.0）\")"
   ]
  },
  {
   "cell_type": "code",
   "execution_count": 116,
   "id": "7f6fac7c-c9d2-4953-b8f0-9950c134d51e",
   "metadata": {},
   "outputs": [
    {
     "name": "stdout",
     "output_type": "stream",
     "text": [
      "布尔索引： [ True False  True False]\n",
      "筛选结果：\n",
      " [[1 2]\n",
      " [5 6]]\n",
      "多条件布尔索引： [ True False  True  True]\n"
     ]
    }
   ],
   "source": [
    "y = np.array([\"Iris-setosa\", \"Iris-versicolor\", \"Iris-setosa\", \"Iris-virginica\"])\n",
    "\n",
    "# 1. 字符串匹配生成布尔索引\n",
    "setosa_bool = (y == \"Iris-setosa\")\n",
    "print(\"布尔索引：\", setosa_bool)  # 输出 [ True False  True False]\n",
    "\n",
    "# 2. 用布尔索引筛选样本\n",
    "X = np.array([[1,2], [3,4], [5,6], [7,8]])  # 假设4个样本的特征\n",
    "setosa_samples = X[setosa_bool]  # 筛选布尔索引为True的样本\n",
    "print(\"筛选结果：\\n\", setosa_samples)  # 输出 [[1 2] [5 6]]（匹配的两个样本）\n",
    "\n",
    "# 3. 筛选\"Iris-setosa\"或\"Iris-virginica\"的样本\n",
    "multi_bool = (y == \"Iris-setosa\") | (y == \"Iris-virginica\")\n",
    "print(\"多条件布尔索引：\", multi_bool)  # 输出 [ True False  True  True]"
   ]
  },
  {
   "cell_type": "code",
   "execution_count": 146,
   "id": "4b3f51a6-a55f-4cfe-ab9c-a19749df4364",
   "metadata": {},
   "outputs": [
    {
     "name": "stdout",
     "output_type": "stream",
     "text": [
      "[ True  True  True  True  True  True  True  True  True  True  True  True\n",
      "  True  True  True  True  True  True  True  True  True  True  True  True\n",
      "  True  True  True  True  True  True  True  True  True  True  True  True\n",
      "  True  True  True  True  True  True  True  True  True  True  True  True\n",
      "  True  True False False False False False False False False False False\n",
      " False False False False False False False False False False False False\n",
      " False False False False False False False False False False False False\n",
      " False False False False False False False False False False False False\n",
      " False False False False False False False False False False False False\n",
      " False False False False False False False False False False False False\n",
      " False False False False False False False False False False False False\n",
      " False False False False False False False False False False False False\n",
      " False False False False False False] \n",
      " 50\n",
      "(50, 4)\n"
     ]
    }
   ],
   "source": [
    "X_std = (X - col_mean) / col_std\n",
    "setosa_bool = (Y == \"Iris-setosa\")\n",
    "print(setosa_bool,\"\\n\",setosa_bool.sum())\n",
    "setosa_samples = X_std[setosa_bool,:]\n",
    "print(setosa_samples.shape)"
   ]
  },
  {
   "cell_type": "code",
   "execution_count": null,
   "id": "85d5787f-24d0-464d-af32-98503733e40e",
   "metadata": {},
   "outputs": [],
   "source": []
  }
 ],
 "metadata": {
  "kernelspec": {
   "display_name": "Python [conda env:base] *",
   "language": "python",
   "name": "conda-base-py"
  },
  "language_info": {
   "codemirror_mode": {
    "name": "ipython",
    "version": 3
   },
   "file_extension": ".py",
   "mimetype": "text/x-python",
   "name": "python",
   "nbconvert_exporter": "python",
   "pygments_lexer": "ipython3",
   "version": "3.13.5"
  }
 },
 "nbformat": 4,
 "nbformat_minor": 5
}
