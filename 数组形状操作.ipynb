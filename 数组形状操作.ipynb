{
 "cells": [
  {
   "cell_type": "code",
   "execution_count": 2,
   "id": "b8e54af2-315f-4046-9f1c-2db982dd2de5",
   "metadata": {},
   "outputs": [
    {
     "name": "stdout",
     "output_type": "stream",
     "text": [
      "<class 'numpy.ndarray'> \n",
      " 1 \n",
      " (3,) \n",
      " int64\n"
     ]
    }
   ],
   "source": [
    "import numpy as np\n",
    "arr = np.array([1,2,3])\n",
    "print(type(arr1),\"\\n\",arr.ndim,\"\\n\",arr.shape,\"\\n\",arr.dtype)"
   ]
  },
  {
   "cell_type": "code",
   "execution_count": 33,
   "id": "68e4b3c5-431f-412c-ac33-11189abf8acd",
   "metadata": {},
   "outputs": [
    {
     "name": "stdout",
     "output_type": "stream",
     "text": [
      "(2, 3)\n",
      "(3, 2)\n",
      "(3, 2)\n",
      "[0 9 2 3 4 5]\n",
      "[[0 9 2]\n",
      " [3 4 5]]\n"
     ]
    }
   ],
   "source": [
    "arr = np.arange(6) # 原数组：[0 1 2 3 4 5]，shape=(6,)\n",
    "# 1. 改为2行3列的二维数组\n",
    "arr1 = arr.reshape(2, 3) \n",
    "print(arr1.shape) # 输出(2,3)\n",
    "# 2. 改为3行2列的二维数组\n",
    "arr2 = arr.reshape(3, 2)\n",
    "print(arr2.shape) # 输出(3,2)\n",
    "# 3. 用-1自动计算某一维度（常用！）\n",
    "arr3 = arr.reshape(-1, 2) # 固定列数为2，行数自动算（6/2=3）\n",
    "print(arr3.shape) # 输出(3,2)\n",
    "arr1[0,1] = 9\n",
    "print(arr) #与原数组关联\n",
    "print(arr1)"
   ]
  },
  {
   "cell_type": "code",
   "execution_count": 14,
   "id": "9f847d97-2286-40fb-b367-0f8e6acfcd42",
   "metadata": {},
   "outputs": [
    {
     "name": "stdout",
     "output_type": "stream",
     "text": [
      "[[0 1 2]\n",
      " [3 4 5]] \n",
      "Shape: (2, 3)\n"
     ]
    }
   ],
   "source": [
    "arr = np.arange(6)\n",
    "arr.resize(2,3)\n",
    "print(arr,\"\\nShape:\",arr.shape)"
   ]
  },
  {
   "cell_type": "code",
   "execution_count": 17,
   "id": "39fa5e7b-7650-43bd-a7ea-6c448e90b882",
   "metadata": {},
   "outputs": [
    {
     "name": "stdout",
     "output_type": "stream",
     "text": [
      "(3, 2)\n",
      "[[1 2 3]\n",
      " [4 5 6]] \n",
      "\n",
      " [[1 4]\n",
      " [2 5]\n",
      " [3 6]]\n"
     ]
    }
   ],
   "source": [
    "arr = np.array([[1,2,3],[4,5,6]]) # shape=(2,3)\n",
    "arr_t = arr.T # 转置\n",
    "print(arr_t.shape) # 输出（3,2）\n",
    "print(arr,\"\\n\\n\",arr_t)"
   ]
  },
  {
   "cell_type": "code",
   "execution_count": 34,
   "id": "325f33fe-1908-48e2-a3d4-25acf7b56076",
   "metadata": {},
   "outputs": [
    {
     "name": "stdout",
     "output_type": "stream",
     "text": [
      "[[100   2]\n",
      " [  3   4]]\n",
      "[100   2   3   4]\n",
      "[[100   2]\n",
      " [  3   4]]\n",
      "[100 200   3   4]\n",
      "[100   2   3   4]\n"
     ]
    }
   ],
   "source": [
    "arr = np.array([[1,2],[3,4]])\n",
    "arr_ravel = arr.ravel()\n",
    "arr_ravel[0] = 100 # 修改展平数组\n",
    "print(arr) # 原数组也变：[[100,2],[3,4]]\n",
    "arr_flatten = arr.flatten()\n",
    "print(arr_flatten)\n",
    "arr_flatten[1] = 200\n",
    "print(arr) #与原数组不关联\n",
    "print(arr_flatten)\n",
    "arr_reshape = arr.reshape(-1)\n",
    "print(arr_reshape) # 输出[100 2 3 4]"
   ]
  },
  {
   "cell_type": "code",
   "execution_count": 41,
   "id": "54af7546-eeb5-41fa-80cb-2e275ed71882",
   "metadata": {},
   "outputs": [
    {
     "name": "stdout",
     "output_type": "stream",
     "text": [
      "[[1 2]\n",
      " [3 4]\n",
      " [5 6]\n",
      " [7 8]]\n",
      "[[1 2 5 6]\n",
      " [3 4 7 8]]\n",
      "[[1 2]\n",
      " [3 4]]\n",
      "[[100   2   5   6]\n",
      " [  3   4   7   8]]\n"
     ]
    }
   ],
   "source": [
    "arr1 = np.array([[1,2],[3,4]]) # shape=(2,2)\n",
    "arr2 = np.array([[5,6],[7,8]]) # shape=(2,2)（列数与arr1一致）\n",
    "arr_v = np.vstack((arr1, arr2)) # 注意传参是元组\n",
    "print(arr_v.shape) # 输出(4,2)（行数2+2=4，列数不变）\n",
    "arr_h = np.hstack((arr1,arr2))\n",
    "print(arr_h)\n",
    "arr_h[0,0] = 100\n",
    "print(arr1) #与原数组不关联\n",
    "print(arr_h)"
   ]
  },
  {
   "cell_type": "code",
   "execution_count": 46,
   "id": "3b0bde3d-cf32-46bc-beb7-e85300dbef94",
   "metadata": {},
   "outputs": [
    {
     "name": "stdout",
     "output_type": "stream",
     "text": [
      "[[1 2]\n",
      " [3 4]\n",
      " [5 6]\n",
      " [7 8]]\n",
      "[[1 2 5 6]\n",
      " [3 4 7 8]]\n",
      "[[1 2]\n",
      " [3 4]]\n",
      "[[100   2   5   6]\n",
      " [  3   4   7   8]]\n"
     ]
    }
   ],
   "source": [
    "arr_concat_v = np.concatenate((arr1,arr2),axis=0) # 垂直堆叠（axis=0）\n",
    "print(arr_concat_v)\n",
    "arr_concat_h = np.concatenate((arr1,arr2),axis=1) # 水平堆叠（axis=1）\n",
    "print(arr_concat_h)\n",
    "arr_concat_h[0,0] = 100\n",
    "print(arr1) #与原数组不关联\n",
    "print(arr_concat_h)"
   ]
  },
  {
   "cell_type": "code",
   "execution_count": 91,
   "id": "0e3e3010-4e19-4418-9fb5-baeed6670bec",
   "metadata": {},
   "outputs": [
    {
     "name": "stdout",
     "output_type": "stream",
     "text": [
      "3\n",
      "(2, 2)\n",
      "[[0 1 2]\n",
      " [6 7 8]]\n",
      "[[ 2.  4.  6.  8. 10. 12.]\n",
      " [14. 16. 18. 20. 22. 24.]\n",
      " [26. 28. 30. 32. 34. 36.]\n",
      " [38. 40. 42. 44. 46. 48.]\n",
      " [50. 52. 54. 56. 58. 60.]\n",
      " [62. 64. 66. 68. 70. 72.]]\n",
      "[[100.   4.   6.   8.  10.  12.]\n",
      " [ 14.  16.  18.  20.  22.  24.]\n",
      " [ 26.  28.  30.  32.  34.  36.]\n",
      " [ 38.  40.  42.  44.  46.  48.]\n",
      " [ 50.  52.  54.  56.  58.  60.]\n",
      " [ 62.  64.  66.  68.  70.  72.]]\n",
      "[array([[100.,   4.,   6.,   8.,  10.,  12.],\n",
      "       [ 14.,  16.,  18.,  20.,  22.,  24.]]), array([[26., 28., 30., 32., 34., 36.],\n",
      "       [38., 40., 42., 44., 46., 48.]]), array([[50., 52., 54., 56., 58., 60.],\n",
      "       [62., 64., 66., 68., 70., 72.]])]\n",
      "<class 'numpy.ndarray'> <class 'list'>\n"
     ]
    }
   ],
   "source": [
    "# 垂直拆分vsplit\n",
    "arr = np.arange(12).reshape(6, 2) # shape=(6,2)（6行2列）\n",
    "# 拆成3个小数组（6行 ÷ 3 = 2行/数组）\n",
    "arr_vs = np.vsplit(arr, 3)\n",
    "print(len(arr_vs)) # 输出3（拆成3个）\n",
    "print(arr_vs[0].shape) # 输出(2,2)（每个小数组2行2列）\n",
    "# 水平拆分hsplit\n",
    "arr = np.arange(12).reshape(2, 6) # shape=(2,6)（2行6列）\n",
    "# 拆成2个小数组（6列 ÷ 2 = 3列/数组）\n",
    "arr_hs = np.hsplit(arr, 2)\n",
    "print(arr_hs[0]) # 输出(2,3)（每个小数组2行3列）\n",
    "arr = np.linspace(2,72,36).reshape(6,6)\n",
    "print(arr)\n",
    "arr_split_v = np.split(arr,3,axis=0)\n",
    "arr_split_v[0][0,0] = 100 #与原数组关联\n",
    "print(arr)\n",
    "print(arr_split_v)\n",
    "arr_split_h = np.split(arr,2,axis=1)\n",
    "print(type(arr),type(arr_split_h)) #注意！！！类型不同"
   ]
  },
  {
   "cell_type": "code",
   "execution_count": 102,
   "id": "ef99530f-457b-4e40-8ecd-b11480a27771",
   "metadata": {},
   "outputs": [
    {
     "name": "stdout",
     "output_type": "stream",
     "text": [
      "[1 2 3 4 5 6 7 8 9] \n",
      "Shape: (9,)\n",
      "[array([1, 2, 3]), array([4, 5, 6]), array([7, 8, 9])]\n",
      "[[[ 1  2  3  4  5  6  7  8  9]]\n",
      "\n",
      " [[10 11 12 13 14 15 16 17 18]]\n",
      "\n",
      " [[19 20 21 22 23 24 25 26 27]]]\n",
      "(3, 1, 9)\n",
      "[[[ 1 10 19]]\n",
      "\n",
      " [[ 2 11 20]]\n",
      "\n",
      " [[ 3 12 21]]\n",
      "\n",
      " [[ 4 13 22]]\n",
      "\n",
      " [[ 5 14 23]]\n",
      "\n",
      " [[ 6 15 24]]\n",
      "\n",
      " [[ 7 16 25]]\n",
      "\n",
      " [[ 8 17 26]]\n",
      "\n",
      " [[ 9 18 27]]]\n",
      "(9, 1, 3)\n"
     ]
    }
   ],
   "source": [
    "arr = np.arange(1,10)\n",
    "print(arr,\"\\nShape:\",arr.shape) #拆分时要用axis=0\n",
    "arr1 = np.split(arr,3,axis=0)\n",
    "print(arr1)\n",
    "arr = np.arange(1,28)\n",
    "arr_reshape = arr.reshape(3,1,9)\n",
    "print(arr_reshape)\n",
    "print(arr_reshape.shape)\n",
    "arr_t = arr_reshape.T\n",
    "print(arr_t)\n",
    "print(arr_t.shape)"
   ]
  },
  {
   "cell_type": "code",
   "execution_count": null,
   "id": "2eab947c-6950-457f-9ef8-9245e54e2dd6",
   "metadata": {},
   "outputs": [],
   "source": []
  }
 ],
 "metadata": {
  "kernelspec": {
   "display_name": "Python [conda env:base] *",
   "language": "python",
   "name": "conda-base-py"
  },
  "language_info": {
   "codemirror_mode": {
    "name": "ipython",
    "version": 3
   },
   "file_extension": ".py",
   "mimetype": "text/x-python",
   "name": "python",
   "nbconvert_exporter": "python",
   "pygments_lexer": "ipython3",
   "version": "3.13.5"
  }
 },
 "nbformat": 4,
 "nbformat_minor": 5
}
