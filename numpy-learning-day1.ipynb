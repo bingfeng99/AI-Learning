{
 "cells": [
  {
   "cell_type": "code",
   "execution_count": 5,
   "id": "42a56f00-e821-4162-be62-d6cb0aa97691",
   "metadata": {},
   "outputs": [],
   "source": [
    "import numpy as np"
   ]
  },
  {
   "cell_type": "code",
   "execution_count": 7,
   "id": "f231f306-74e3-437d-b8d3-31555387ced4",
   "metadata": {},
   "outputs": [
    {
     "name": "stdout",
     "output_type": "stream",
     "text": [
      "原始列表： [1, 2, 3, 4, 5]\n",
      "创建的NumPy数组 [1 2 3 4 5]\n",
      "数组的类型： <class 'numpy.ndarray'>\n",
      "数组的维度（ndim）： 1\n",
      "数组的形状（shape）： (5,)\n",
      "数组的数据类型（dtype）： int64\n"
     ]
    }
   ],
   "source": [
    "# 从一个Python列表创建\n",
    "my_list = [1,2,3,4,5]\n",
    "arr1 = np.array(my_list)\n",
    "\n",
    "print(\"原始列表：\",my_list)\n",
    "print(\"创建的NumPy数组\",arr1)\n",
    "print(\"数组的类型：\",type(arr1))\n",
    "print(\"数组的维度（ndim）：\",arr1.ndim)\n",
    "print(\"数组的形状（shape）：\",arr1.shape)\n",
    "print(\"数组的数据类型（dtype）：\",arr1.dtype)"
   ]
  },
  {
   "cell_type": "code",
   "execution_count": 8,
   "id": "4fb2f2dd-c0f1-4d6e-84f8-7c740617a089",
   "metadata": {},
   "outputs": [
    {
     "name": "stdout",
     "output_type": "stream",
     "text": [
      "创建的二维数组:\n",
      " [[1 2 3]\n",
      " [4 5 6]\n",
      " [7 8 9]]\n",
      "数组的维度 (ndim): 2\n",
      "数组的形状 (shape): (3, 3)\n"
     ]
    }
   ],
   "source": [
    "# 从一个嵌套列表创建\n",
    "my_matrix = [[1, 2, 3], [4, 5, 6], [7, 8, 9]]\n",
    "arr2 = np.array(my_matrix)\n",
    "\n",
    "print(\"创建的二维数组:\\n\", arr2) # \\n 用于换行\n",
    "print(\"数组的维度 (ndim):\", arr2.ndim)\n",
    "print(\"数组的形状 (shape):\", arr2.shape) # 输出 (3, 3)，表示3行3列"
   ]
  },
  {
   "cell_type": "code",
   "execution_count": 9,
   "id": "2e08d4d2-c880-4d2d-a5c3-0aee77482ee0",
   "metadata": {},
   "outputs": [
    {
     "name": "stdout",
     "output_type": "stream",
     "text": [
      "强制指定为浮点数的数组： [1. 2. 3.]\n",
      "数组的数据类型（dtype）： float64\n",
      "\n",
      "字符串数组: ['apple' 'banana' 'cherry']\n",
      "数组的数据类型 (dtype): <U6\n"
     ]
    }
   ],
   "source": [
    "# 创建一个整数数组，但强制转换为浮点数类型\n",
    "arr_int_to_float = np.array([1,2,3],dtype=float)\n",
    "print(\"强制指定为浮点数的数组：\",arr_int_to_float)\n",
    "print(\"数组的数据类型（dtype）：\",arr_int_to_float.dtype)\n",
    "\n",
    "# 创建一个字符串数组\n",
    "arr_str = np.array(['apple', 'banana', 'cherry'])\n",
    "print(\"\\n字符串数组:\", arr_str)\n",
    "print(\"数组的数据类型 (dtype):\", arr_str.dtype)"
   ]
  },
  {
   "cell_type": "code",
   "execution_count": 14,
   "id": "1b692e8c-33e0-4c20-8693-fe698222001b",
   "metadata": {},
   "outputs": [
    {
     "name": "stdout",
     "output_type": "stream",
     "text": [
      "2行3列的全0数组\n",
      " [[0. 0. 0.]\n",
      " [0. 0. 0.]]\n",
      "数组的数据类型 float64\n",
      "\n",
      "指定为整数的全0数组：\n",
      " [[0 0 0]\n",
      " [0 0 0]]\n",
      "数组的数据类型 int64\n"
     ]
    }
   ],
   "source": [
    "#创建一个2行3列的全0数组\n",
    "zeros_arr = np.zeros((2,3))\n",
    "\n",
    "print(\"2行3列的全0数组\\n\",zeros_arr)\n",
    "print(\"数组的数据类型\",zeros_arr.dtype)\n",
    "\n",
    "#也可以制定数据类型为整数\n",
    "zeros_int_arr = np.zeros((2,3),dtype=int)\n",
    "print(\"\\n指定为整数的全0数组：\\n\",zeros_int_arr)\n",
    "print(\"数组的数据类型\",zeros_int_arr.dtype)"
   ]
  },
  {
   "cell_type": "code",
   "execution_count": 18,
   "id": "d15fd7cb-dc94-4778-9f1e-362e1dfc1143",
   "metadata": {},
   "outputs": [
    {
     "name": "stdout",
     "output_type": "stream",
     "text": [
      "3行1列的全1数组\n",
      " [[1.]\n",
      " [1.]\n",
      " [1.]]\n",
      "数组的数据类型 float64\n"
     ]
    }
   ],
   "source": [
    "#创建一个3行1列的全1数组\n",
    "ones_arr = np.ones((3,1))\n",
    "\n",
    "print(\"3行1列的全1数组\\n\",ones_arr)\n",
    "print(\"数组的数据类型\",ones_arr.dtype)"
   ]
  },
  {
   "cell_type": "code",
   "execution_count": 21,
   "id": "4403f979-6482-48f6-87bc-cfb4fa1fedca",
   "metadata": {},
   "outputs": [
    {
     "name": "stdout",
     "output_type": "stream",
     "text": [
      "[[7 7]\n",
      " [7 7]]\n",
      "\n",
      "填充浮点数3.14的数组:\n",
      " [[3.14 3.14]\n",
      " [3.14 3.14]]\n"
     ]
    }
   ],
   "source": [
    "# 创建一个2行2列，所有元素都为7的数组\n",
    "full_arr = np.full((2,2),7)\n",
    "print(full_arr)\n",
    "# 也可以填充浮点数或字符串\n",
    "full_float_arr = np.full((2, 2), 3.14)\n",
    "print(\"\\n填充浮点数3.14的数组:\\n\", full_float_arr)"
   ]
  },
  {
   "cell_type": "code",
   "execution_count": 23,
   "id": "ba1ca1d5-7634-4179-9e3a-4555a914542c",
   "metadata": {},
   "outputs": [
    {
     "name": "stdout",
     "output_type": "stream",
     "text": [
      "从0到9: [0 1 2 3 4 5 6 7 8 9]\n",
      "从5到14: [ 5  6  7  8  9 10 11 12 13 14]\n",
      "从0到10，步长为2: [ 0  2  4  6  8 10]\n",
      "浮点数序列: [0.  0.2 0.4 0.6 0.8]\n",
      "浮点数序列2： [35.  35.8 36.6 37.4 38.2 39.  39.8 40.6 41.4 42.2]\n"
     ]
    }
   ],
   "source": [
    "# 从0到9 (不包含10)\n",
    "arr_range1 = np.arange(10)\n",
    "print(\"从0到9:\", arr_range1)\n",
    "\n",
    "# 从5到14 (不包含15)\n",
    "arr_range2 = np.arange(5, 15)\n",
    "print(\"从5到14:\", arr_range2)\n",
    "\n",
    "# 从0到10，步长为2\n",
    "arr_range3 = np.arange(0, 11, 2)\n",
    "print(\"从0到10，步长为2:\", arr_range3)\n",
    "\n",
    "# 也可以用于浮点数\n",
    "arr_range4 = np.arange(0, 1, 0.2)\n",
    "print(\"浮点数序列:\", arr_range4)\n",
    "\n",
    "arr_range5 = np.arange(35,43,0.8)\n",
    "print(\"浮点数序列2：\",arr_range5)"
   ]
  },
  {
   "cell_type": "code",
   "execution_count": 26,
   "id": "67de1e9d-b603-4b2e-881d-369536654eea",
   "metadata": {},
   "outputs": [
    {
     "name": "stdout",
     "output_type": "stream",
     "text": [
      "[ 0.   2.5  5.   7.5 10. ]\n"
     ]
    }
   ],
   "source": [
    "# 在0到10之间（包含0和10），均匀生成5个数字\n",
    "lin_arr = np.linspace(0,10,5)\n",
    "print(lin_arr)"
   ]
  },
  {
   "cell_type": "code",
   "execution_count": 27,
   "id": "585d18b3-1e69-46c0-b3a6-7babf3192ae5",
   "metadata": {},
   "outputs": [
    {
     "name": "stdout",
     "output_type": "stream",
     "text": [
      "2行3列的随机浮点数数组 (0到1之间):\n",
      " [[0.87326332 0.50693685 0.55025486]\n",
      " [0.05491944 0.27387067 0.61290731]]\n"
     ]
    }
   ],
   "source": [
    "# 创建一个2行3列的随机浮点数数组\n",
    "rand_arr = np.random.rand(2,3)\n",
    "\n",
    "print(\"2行3列的随机浮点数数组 (0到1之间):\\n\", rand_arr)"
   ]
  },
  {
   "cell_type": "code",
   "execution_count": 28,
   "id": "52c324e3-f8ee-4ebd-b1f8-c1fcce89bf9b",
   "metadata": {},
   "outputs": [
    {
     "name": "stdout",
     "output_type": "stream",
     "text": [
      "3行2列的标准正态分布随机数组:\n",
      " [[ 1.58248353 -0.06935137]\n",
      " [ 1.48214587 -0.14623785]\n",
      " [-0.13981883  1.10414233]]\n"
     ]
    }
   ],
   "source": [
    "# 创建一个3行2列的标准正态分布随机数组(均值为0，标准差为1)\n",
    "randn_arr = np.random.randn(3, 2)\n",
    "\n",
    "print(\"3行2列的标准正态分布随机数组:\\n\", randn_arr)"
   ]
  },
  {
   "cell_type": "code",
   "execution_count": 34,
   "id": "624405ae-548d-4413-8b1e-a2ef364238a8",
   "metadata": {},
   "outputs": [
    {
     "name": "stdout",
     "output_type": "stream",
     "text": [
      "[8 7 9 7 9]\n",
      "[[ 5 70]\n",
      " [11 95]]\n"
     ]
    }
   ],
   "source": [
    "randint_arr1 = np.random.randint(0,10,size=5)\n",
    "print(randint_arr1)\n",
    "randint_arr2 = np.random.randint(1,100,(2,2))\n",
    "print(randint_arr2)"
   ]
  },
  {
   "cell_type": "code",
   "execution_count": 48,
   "id": "c78926fe-db14-4ce8-9868-b9a92fadfa5d",
   "metadata": {},
   "outputs": [
    {
     "name": "stdout",
     "output_type": "stream",
     "text": [
      "[[1. 1. 1. 1.]\n",
      " [1. 1. 1. 1.]\n",
      " [1. 1. 1. 1.]] \n",
      "Shape: (3, 4) \n",
      "Dtype: float64 \n",
      "\n",
      "[10 12 14 16 18 20 22 24 26 28 30] \n",
      "Shape: (11,) \n",
      "Dtype: int64 \n",
      "\n",
      "[[30 40 35]\n",
      " [10 14 27]] \n",
      "Shape: (2, 3) \n",
      "Dtype: int32\n"
     ]
    }
   ],
   "source": [
    "my_ones = np.ones((3,4))\n",
    "print(my_ones,\"\\nShape:\",my_ones.shape,\"\\nDtype:\",my_ones.dtype,\"\\n\")\n",
    "\n",
    "my_sequence = np.arange(10,31,2)\n",
    "print(my_sequence,\"\\nShape:\",my_sequence.shape,\"\\nDtype:\",my_sequence.dtype,\"\\n\")\n",
    "\n",
    "my_random = np.random.randint(1,51,size=(2,3))\n",
    "print(my_random,\"\\nShape:\",my_random.shape,\"\\nDtype:\",my_random.dtype)"
   ]
  },
  {
   "cell_type": "code",
   "execution_count": 3,
   "id": "7256c47c-0562-4c43-89a1-5177ef4bdc69",
   "metadata": {},
   "outputs": [
    {
     "name": "stdout",
     "output_type": "stream",
     "text": [
      "C:\\Users\\77386\\代码\n"
     ]
    }
   ],
   "source": [
    "import os\n",
    "print(os.getcwd())"
   ]
  },
  {
   "cell_type": "code",
   "execution_count": null,
   "id": "e07aa6c2-d485-4cd0-8aed-04702c7d6aaa",
   "metadata": {},
   "outputs": [],
   "source": []
  }
 ],
 "metadata": {
  "kernelspec": {
   "display_name": "Python [conda env:base] *",
   "language": "python",
   "name": "conda-base-py"
  },
  "language_info": {
   "codemirror_mode": {
    "name": "ipython",
    "version": 3
   },
   "file_extension": ".py",
   "mimetype": "text/x-python",
   "name": "python",
   "nbconvert_exporter": "python",
   "pygments_lexer": "ipython3",
   "version": "3.13.5"
  }
 },
 "nbformat": 4,
 "nbformat_minor": 5
}
