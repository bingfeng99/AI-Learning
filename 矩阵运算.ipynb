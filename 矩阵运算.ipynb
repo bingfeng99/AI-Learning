{
 "cells": [
  {
   "cell_type": "code",
   "execution_count": 9,
   "id": "f493d25b-1941-4760-be05-62f8cfcfa7ad",
   "metadata": {},
   "outputs": [
    {
     "name": "stdout",
     "output_type": "stream",
     "text": [
      "[[1 2 3]\n",
      " [4 5 6]\n",
      " [7 8 9]] \n",
      " [[1. 0. 0. 0.]\n",
      " [0. 1. 0. 0.]\n",
      " [0. 0. 1. 0.]\n",
      " [0. 0. 0. 1.]] \n",
      " [[0. 0. 0.]\n",
      " [0. 0. 0.]] \n",
      " [[9 8 3]\n",
      " [1 7 7]]\n"
     ]
    }
   ],
   "source": [
    "import numpy as np\n",
    "arr = np.array([[1,2,3],[4,5,6],[7,8,9]])\n",
    "arr_eye = np.eye(4) # 对角矩阵，从左上向右下一条线是1，其余为0\n",
    "arr_zeros = np.zeros((2,3))\n",
    "arr_rand = np.random.randint(1,10,(2,3))\n",
    "print(arr,'\\n',arr_eye,'\\n',arr_zeros,'\\n',arr_rand)"
   ]
  },
  {
   "cell_type": "code",
   "execution_count": 11,
   "id": "a629f788-8646-4cc2-8de1-782ec88f3d0b",
   "metadata": {},
   "outputs": [
    {
     "name": "stdout",
     "output_type": "stream",
     "text": [
      "[[ 5 12]\n",
      " [21 32]]\n",
      "[[19 22]\n",
      " [43 50]]\n"
     ]
    }
   ],
   "source": [
    "A = np.array([[1,2],[3,4]])  # 2x2数组\n",
    "B = np.array([[5,6],[7,8]])  # 2x2数组\n",
    "\n",
    "# 1. 元素级乘法（*）：对应位置相乘\n",
    "print(A * B)\n",
    "\n",
    "# 2. 矩阵乘法（@ 或 np.dot()）：按矩阵规则计算\n",
    "print(A @ B)  # 等价于 np.dot(A, B)\n",
    "# 输出：[[1*5+2*7, 1*6+2*8], \n",
    "#        [3*5+4*7, 3*6+4*8]]"
   ]
  },
  {
   "cell_type": "code",
   "execution_count": 24,
   "id": "584a006d-d93c-45fe-8d5c-d2a6c18d481f",
   "metadata": {
    "scrolled": true
   },
   "outputs": [
    {
     "name": "stdout",
     "output_type": "stream",
     "text": [
      "[[ 58  64]\n",
      " [139 154]]\n",
      "[[ 7 16 27]\n",
      " [40 55 72]]\n"
     ]
    }
   ],
   "source": [
    "'''\n",
    "即时练习 1：创建矩阵并区分乘法\n",
    "创建一个 2 行 3 列的矩阵C（元素为 [1,2,3],[4,5,6]）和 3 行 2 列的矩阵D（元素为 [7,8],[9,10],[11,12]）。\n",
    "尝试计算C * D和C @ D，观察结果差异（思考：为什么C * D会报错？）。\n",
    "'''\n",
    "C = np.array([[1,2,3],[4,5,6]])\n",
    "D = np.array([[7,8],[9,10],[11,12]])\n",
    "print(C @ D)\n",
    "D = D.reshape(2,3) # C、D行列数不同不能使用数组乘法\n",
    "print(C * D)"
   ]
  },
  {
   "cell_type": "code",
   "execution_count": 29,
   "id": "3f24633e-d75a-447a-a419-5585032aae24",
   "metadata": {},
   "outputs": [
    {
     "name": "stdout",
     "output_type": "stream",
     "text": [
      "[[ 6  8]\n",
      " [10 12]]\n",
      "[[-1.5 -0.5]\n",
      " [ 0.5  1.5]]\n"
     ]
    }
   ],
   "source": [
    "A = np.array([[1,2],[3,4]])\n",
    "B = np.array([[5,6],[7,8]])\n",
    "print(A + B)  # 矩阵加法\n",
    "print(A - 2.5)  # 矩阵减标量"
   ]
  },
  {
   "cell_type": "code",
   "execution_count": 34,
   "id": "f9f5bd3d-3581-44a4-b552-1cc96ca438f7",
   "metadata": {},
   "outputs": [
    {
     "name": "stdout",
     "output_type": "stream",
     "text": [
      "[[1 1]\n",
      " [1 1]] \n",
      " [[ 5  7]\n",
      " [ 9 11]] \n",
      " [[ 2  6]\n",
      " [10 14]]\n"
     ]
    }
   ],
   "source": [
    "'''\n",
    "即时练习 2：矩阵加减运算\n",
    "已知E = np.array([[2,4],[6,8]])，F = np.array([[1,3],[5,7]])，计算E - F。\n",
    "计算E + 3和F * 2（思考：F * 2是矩阵运算还是元素运算？）\n",
    "'''\n",
    "E = np.array([[2,4],[6,8]])\n",
    "F = np.array([[1,3],[5,7]])\n",
    "print(E - F,\"\\n\",E + 3,\"\\n\",F * 2) #后两者属于元素运算，符合广播机制"
   ]
  },
  {
   "cell_type": "code",
   "execution_count": 36,
   "id": "e1a30945-6cc4-419d-9522-9aed9b2bd15a",
   "metadata": {},
   "outputs": [
    {
     "name": "stdout",
     "output_type": "stream",
     "text": [
      "[[ 58  64]\n",
      " [139 154]]\n",
      "32\n"
     ]
    }
   ],
   "source": [
    "# 1. 矩阵乘法（满足“前列=后行”：A(2x3) * B(3x2) → 结果(2x2)）\n",
    "A = np.array([[1,2,3],[4,5,6]])  # 2x3\n",
    "B = np.array([[7,8],[9,10],[11,12]])  # 3x2\n",
    "print(A @ B)\n",
    "# 输出：[[1*7+2*9+3*11, 1*8+2*10+3*12], \n",
    "#        [4*7+5*9+6*11, 4*8+5*10+6*12]]\n",
    "\n",
    "# 2. 向量点积（两个1维数组）\n",
    "vec1 = np.array([1,2,3])\n",
    "vec2 = np.array([4,5,6])\n",
    "print(np.dot(vec1, vec2))  # 1*4 + 2*5 + 3*6 = 32"
   ]
  },
  {
   "cell_type": "code",
   "execution_count": 38,
   "id": "ed9fc09a-bdf6-44c9-b468-16a4aa6e14d4",
   "metadata": {},
   "outputs": [
    {
     "name": "stdout",
     "output_type": "stream",
     "text": [
      "[[3 4]\n",
      " [5 6]] \n",
      " [[3 4]\n",
      " [5 6]]\n",
      "68\n"
     ]
    }
   ],
   "source": [
    "'''\n",
    "即时练习 3：矩阵乘法与点积\n",
    "已知G = np.array([[1,0],[0,1]])（2 阶单位矩阵），H = np.array([[3,4],[5,6]])，计算G @ H和H @ G（观察结果，思考单位矩阵的作用）。\n",
    "计算向量vec3 = [2,4,6]和vec4 = [3,5,7]的点积\n",
    "'''\n",
    "G = np.array([[1,0],[0,1]])\n",
    "H = np.array([[3,4],[5,6]])\n",
    "print(np.dot(G,H),\"\\n\",np.dot(H,G)) #任何矩阵与单位矩阵相乘均等于它本身\n",
    "print(np.dot([2,4,6],[3,5,7]))"
   ]
  },
  {
   "cell_type": "code",
   "execution_count": 48,
   "id": "4128d975-2ae3-4eb1-8eb5-e9812af92249",
   "metadata": {},
   "outputs": [
    {
     "name": "stdout",
     "output_type": "stream",
     "text": [
      "[[1 3]\n",
      " [2 4]]\n",
      "-2\n",
      "[[-2.   1. ]\n",
      " [ 1.5 -0.5]]\n",
      "[[1.00000000e+00 1.11022302e-16]\n",
      " [0.00000000e+00 1.00000000e+00]]\n"
     ]
    }
   ],
   "source": [
    "A = np.array([[1,2],[3,4]])  # 2阶方阵\n",
    "# 1. 转置\n",
    "print(A.T)\n",
    "\n",
    "# 2. 行列式（判断是否可逆）\n",
    "det_A = np.linalg.det(A)\n",
    "print(int(det_A))  # 结果≠0，可逆\n",
    "\n",
    "# 3. 逆矩阵\n",
    "inv_A = np.linalg.inv(A)\n",
    "print(inv_A)\n",
    "\n",
    "# 验证逆矩阵：A @ inv_A 应接近单位矩阵（浮点数误差）\n",
    "print(A @ inv_A)"
   ]
  },
  {
   "cell_type": "code",
   "execution_count": 43,
   "id": "6b8887c9-31f0-4a8c-808c-b693ce6f17b1",
   "metadata": {},
   "outputs": [
    {
     "name": "stdout",
     "output_type": "stream",
     "text": [
      "1.0\n",
      "[[ 3. -5.]\n",
      " [-1.  2.]]\n",
      "[[1. 0.]\n",
      " [0. 1.]]\n",
      "[[1. 0.]\n",
      " [0. 1.]]\n"
     ]
    }
   ],
   "source": [
    "I = np.array([[2,5],[1,3]])\n",
    "print(np.linalg.det(I)) #可逆\n",
    "I_inv = np.linalg.inv(I)\n",
    "print(I_inv)\n",
    "print(I @ I_inv)\n",
    "print(I_inv @ I) #结果一样"
   ]
  },
  {
   "cell_type": "code",
   "execution_count": 50,
   "id": "6cea0fb4-3468-414c-9630-84a3ee4362a5",
   "metadata": {},
   "outputs": [
    {
     "name": "stdout",
     "output_type": "stream",
     "text": [
      "特征值： [-0.37228132  5.37228132]\n",
      "特征向量（列向量）：\n",
      " [[-0.82456484 -0.41597356]\n",
      " [ 0.56576746 -0.90937671]]\n",
      "A@v1： [-2.23472698 -4.88542751]\n",
      "λ1*v1： [-2.23472698 -4.88542751]\n"
     ]
    }
   ],
   "source": [
    "'''\n",
    "模块 4：特征值与特征向量（机器学习常用）\n",
    "对 n 阶方阵 A，若存在标量 λ（特征值）和非零向量 v（特征向量），满足A @ v = λ * v，可通过np.linalg.eig()计算。\n",
    "'''\n",
    "A = np.array([[1,2],[3,4]])\n",
    "eigenvalues,eigenvectors = np.linalg.eig(A)\n",
    "print(\"特征值：\", eigenvalues)  # 输出两个特征值\n",
    "print(\"特征向量（列向量）：\\n\", eigenvectors)\n",
    "\n",
    "# 验证：A@v ≈ λ*v（取第一个特征值和特征向量）\n",
    "v1 = eigenvectors[:,1]  # 第二列是第二个特征向量\n",
    "lambda1 = eigenvalues[1]\n",
    "print(\"A@v1：\", A @ v1)\n",
    "print(\"λ1*v1：\", lambda1 * v1)\n",
    "# 输出应近似相等（浮点数误差）"
   ]
  },
  {
   "cell_type": "code",
   "execution_count": 59,
   "id": "4a4464fc-0bca-4c33-a30b-cce439c37e93",
   "metadata": {},
   "outputs": [
    {
     "name": "stdout",
     "output_type": "stream",
     "text": [
      "[4. 2.] \n",
      " [[ 0.70710678 -0.70710678]\n",
      " [ 0.70710678  0.70710678]]\n",
      "[2.82842712 2.82842712]\n",
      "[2.82842712 2.82842712]\n"
     ]
    }
   ],
   "source": [
    "'''\n",
    "即时练习 5：特征值验证\n",
    "已知方阵J = np.array([[3,1],[1,3]])，求其特征值和特征向量，并验证J@v = λ*v（任选一个特征值和向量）。\n",
    "'''\n",
    "J = np.array([[3,1],[1,3]])\n",
    "J_λ,J_v = np.linalg.eig(J)\n",
    "print(J_λ,\"\\n\",J_v)\n",
    "print(J @ J_v[:,0])\n",
    "print(J_λ[0] * J_v[:,0])"
   ]
  },
  {
   "cell_type": "code",
   "execution_count": 60,
   "id": "80c0d155-38b3-4668-8120-0dac7afb854d",
   "metadata": {},
   "outputs": [
    {
     "name": "stdout",
     "output_type": "stream",
     "text": [
      "[[11 22]\n",
      " [13 24]\n",
      " [15 26]]\n"
     ]
    }
   ],
   "source": [
    "A = np.array([[1,2],[3,4],[5,6]])  # 3x2\n",
    "vec = np.array([10,20])  # 1x2（向量）\n",
    "print(A + vec)  # 广播：vec扩展为[[10,20],[10,20],[10,20]]"
   ]
  },
  {
   "cell_type": "code",
   "execution_count": 62,
   "id": "8caaa92a-ae3f-4992-83b1-589bb2cd655d",
   "metadata": {},
   "outputs": [
    {
     "name": "stdout",
     "output_type": "stream",
     "text": [
      "[[0.04 0.08]\n",
      " [0.08 0.16]]\n",
      "[[1. 2.]\n",
      " [2. 4.]]\n",
      "[[0.2 0.4]\n",
      " [0.4 0.8]]\n"
     ]
    }
   ],
   "source": [
    "# 不可逆矩阵（行列式=0）\n",
    "A = np.array([[1,2],[2,4]])  # 两行成比例，不可逆\n",
    "pinv_A = np.linalg.pinv(A)\n",
    "print(pinv_A)\n",
    "# 验证：A@pinv_A@A ≈ A（伪逆的性质）\n",
    "print(A @ pinv_A @ A)"
   ]
  },
  {
   "cell_type": "code",
   "execution_count": null,
   "id": "a36e448b-bcfb-47be-a599-124a0c6588bb",
   "metadata": {},
   "outputs": [],
   "source": [
    "from scipy.linalg import lu  # NumPy需借助scipy，或用np.linalg.svd\n",
    "A = np.array([[2,1,-1],[4,-1,1],[-2,3,2]])\n",
    "L,U = lu(A,permute_l=True)  # 分解为L（下三角）和U（上三角）\n",
    "print(\"下三角矩阵L：\\n\", L)\n",
    "print(\"上三角矩阵U：\\n\", U)\n",
    "print(\"验证L@U：\\n\", L @ U)  # 应等于原矩阵A"
   ]
  }
 ],
 "metadata": {
  "kernelspec": {
   "display_name": "Python [conda env:base] *",
   "language": "python",
   "name": "conda-base-py"
  },
  "language_info": {
   "codemirror_mode": {
    "name": "ipython",
    "version": 3
   },
   "file_extension": ".py",
   "mimetype": "text/x-python",
   "name": "python",
   "nbconvert_exporter": "python",
   "pygments_lexer": "ipython3",
   "version": "3.13.5"
  }
 },
 "nbformat": 4,
 "nbformat_minor": 5
}
