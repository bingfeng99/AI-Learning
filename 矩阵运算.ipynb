{
 "cells": [
  {
   "cell_type": "code",
   "execution_count": 2,
   "id": "f493d25b-1941-4760-be05-62f8cfcfa7ad",
   "metadata": {},
   "outputs": [
    {
     "name": "stdout",
     "output_type": "stream",
     "text": [
      "[[1 2 3]\n",
      " [4 5 6]\n",
      " [7 8 9]] \n",
      " [[1. 0. 0. 0.]\n",
      " [0. 1. 0. 0.]\n",
      " [0. 0. 1. 0.]\n",
      " [0. 0. 0. 1.]] \n",
      " [[0. 0. 0.]\n",
      " [0. 0. 0.]] \n",
      " [[3 7 6]\n",
      " [1 5 6]]\n"
     ]
    }
   ],
   "source": [
    "import numpy as np\n",
    "arr = np.array([[1,2,3],[4,5,6],[7,8,9]])\n",
    "arr_eye = np.eye(4) # 对角矩阵，从左上向右下一条线是1，其余为0\n",
    "arr_zeros = np.zeros((2,3))\n",
    "arr_rand = np.random.randint(1,10,(2,3))\n",
    "print(arr,'\\n',arr_eye,'\\n',arr_zeros,'\\n',arr_rand)"
   ]
  },
  {
   "cell_type": "code",
   "execution_count": 11,
   "id": "a629f788-8646-4cc2-8de1-782ec88f3d0b",
   "metadata": {},
   "outputs": [
    {
     "name": "stdout",
     "output_type": "stream",
     "text": [
      "[[ 5 12]\n",
      " [21 32]]\n",
      "[[19 22]\n",
      " [43 50]]\n"
     ]
    }
   ],
   "source": [
    "A = np.array([[1,2],[3,4]])  # 2x2数组\n",
    "B = np.array([[5,6],[7,8]])  # 2x2数组\n",
    "\n",
    "# 1. 元素级乘法（*）：对应位置相乘\n",
    "print(A * B)\n",
    "\n",
    "# 2. 矩阵乘法（@ 或 np.dot()）：按矩阵规则计算\n",
    "print(A @ B)  # 等价于 np.dot(A, B)\n",
    "# 输出：[[1*5+2*7, 1*6+2*8], \n",
    "#        [3*5+4*7, 3*6+4*8]]"
   ]
  },
  {
   "cell_type": "code",
   "execution_count": 24,
   "id": "584a006d-d93c-45fe-8d5c-d2a6c18d481f",
   "metadata": {
    "scrolled": true
   },
   "outputs": [
    {
     "name": "stdout",
     "output_type": "stream",
     "text": [
      "[[ 58  64]\n",
      " [139 154]]\n",
      "[[ 7 16 27]\n",
      " [40 55 72]]\n"
     ]
    }
   ],
   "source": [
    "'''\n",
    "即时练习 1：创建矩阵并区分乘法\n",
    "创建一个 2 行 3 列的矩阵C（元素为 [1,2,3],[4,5,6]）和 3 行 2 列的矩阵D（元素为 [7,8],[9,10],[11,12]）。\n",
    "尝试计算C * D和C @ D，观察结果差异（思考：为什么C * D会报错？）。\n",
    "'''\n",
    "C = np.array([[1,2,3],[4,5,6]])\n",
    "D = np.array([[7,8],[9,10],[11,12]])\n",
    "print(C @ D)\n",
    "D = D.reshape(2,3) # C、D行列数不同不能使用数组乘法\n",
    "print(C * D)"
   ]
  },
  {
   "cell_type": "code",
   "execution_count": 29,
   "id": "3f24633e-d75a-447a-a419-5585032aae24",
   "metadata": {},
   "outputs": [
    {
     "name": "stdout",
     "output_type": "stream",
     "text": [
      "[[ 6  8]\n",
      " [10 12]]\n",
      "[[-1.5 -0.5]\n",
      " [ 0.5  1.5]]\n"
     ]
    }
   ],
   "source": [
    "A = np.array([[1,2],[3,4]])\n",
    "B = np.array([[5,6],[7,8]])\n",
    "print(A + B)  # 矩阵加法\n",
    "print(A - 2.5)  # 矩阵减标量"
   ]
  },
  {
   "cell_type": "code",
   "execution_count": 34,
   "id": "f9f5bd3d-3581-44a4-b552-1cc96ca438f7",
   "metadata": {},
   "outputs": [
    {
     "name": "stdout",
     "output_type": "stream",
     "text": [
      "[[1 1]\n",
      " [1 1]] \n",
      " [[ 5  7]\n",
      " [ 9 11]] \n",
      " [[ 2  6]\n",
      " [10 14]]\n"
     ]
    }
   ],
   "source": [
    "'''\n",
    "即时练习 2：矩阵加减运算\n",
    "已知E = np.array([[2,4],[6,8]])，F = np.array([[1,3],[5,7]])，计算E - F。\n",
    "计算E + 3和F * 2（思考：F * 2是矩阵运算还是元素运算？）\n",
    "'''\n",
    "E = np.array([[2,4],[6,8]])\n",
    "F = np.array([[1,3],[5,7]])\n",
    "print(E - F,\"\\n\",E + 3,\"\\n\",F * 2) #后两者属于元素运算，符合广播机制"
   ]
  },
  {
   "cell_type": "code",
   "execution_count": 36,
   "id": "e1a30945-6cc4-419d-9522-9aed9b2bd15a",
   "metadata": {},
   "outputs": [
    {
     "name": "stdout",
     "output_type": "stream",
     "text": [
      "[[ 58  64]\n",
      " [139 154]]\n",
      "32\n"
     ]
    }
   ],
   "source": [
    "# 1. 矩阵乘法（满足“前列=后行”：A(2x3) * B(3x2) → 结果(2x2)）\n",
    "A = np.array([[1,2,3],[4,5,6]])  # 2x3\n",
    "B = np.array([[7,8],[9,10],[11,12]])  # 3x2\n",
    "print(A @ B)\n",
    "# 输出：[[1*7+2*9+3*11, 1*8+2*10+3*12], \n",
    "#        [4*7+5*9+6*11, 4*8+5*10+6*12]]\n",
    "\n",
    "# 2. 向量点积（两个1维数组）\n",
    "vec1 = np.array([1,2,3])\n",
    "vec2 = np.array([4,5,6])\n",
    "print(np.dot(vec1, vec2))  # 1*4 + 2*5 + 3*6 = 32"
   ]
  },
  {
   "cell_type": "code",
   "execution_count": 38,
   "id": "ed9fc09a-bdf6-44c9-b468-16a4aa6e14d4",
   "metadata": {},
   "outputs": [
    {
     "name": "stdout",
     "output_type": "stream",
     "text": [
      "[[3 4]\n",
      " [5 6]] \n",
      " [[3 4]\n",
      " [5 6]]\n",
      "68\n"
     ]
    }
   ],
   "source": [
    "'''\n",
    "即时练习 3：矩阵乘法与点积\n",
    "已知G = np.array([[1,0],[0,1]])（2 阶单位矩阵），H = np.array([[3,4],[5,6]])，计算G @ H和H @ G（观察结果，思考单位矩阵的作用）。\n",
    "计算向量vec3 = [2,4,6]和vec4 = [3,5,7]的点积\n",
    "'''\n",
    "G = np.array([[1,0],[0,1]])\n",
    "H = np.array([[3,4],[5,6]])\n",
    "print(np.dot(G,H),\"\\n\",np.dot(H,G)) #任何矩阵与单位矩阵相乘均等于它本身\n",
    "print(np.dot([2,4,6],[3,5,7]))"
   ]
  },
  {
   "cell_type": "code",
   "execution_count": 48,
   "id": "4128d975-2ae3-4eb1-8eb5-e9812af92249",
   "metadata": {},
   "outputs": [
    {
     "name": "stdout",
     "output_type": "stream",
     "text": [
      "[[1 3]\n",
      " [2 4]]\n",
      "-2\n",
      "[[-2.   1. ]\n",
      " [ 1.5 -0.5]]\n",
      "[[1.00000000e+00 1.11022302e-16]\n",
      " [0.00000000e+00 1.00000000e+00]]\n"
     ]
    }
   ],
   "source": [
    "A = np.array([[1,2],[3,4]])  # 2阶方阵\n",
    "# 1. 转置\n",
    "print(A.T)\n",
    "\n",
    "# 2. 行列式（判断是否可逆）\n",
    "det_A = np.linalg.det(A)\n",
    "print(int(det_A))  # 结果≠0，可逆\n",
    "\n",
    "# 3. 逆矩阵\n",
    "inv_A = np.linalg.inv(A)\n",
    "print(inv_A)\n",
    "\n",
    "# 验证逆矩阵：A @ inv_A 应接近单位矩阵（浮点数误差）\n",
    "print(A @ inv_A)"
   ]
  },
  {
   "cell_type": "code",
   "execution_count": 43,
   "id": "6b8887c9-31f0-4a8c-808c-b693ce6f17b1",
   "metadata": {},
   "outputs": [
    {
     "name": "stdout",
     "output_type": "stream",
     "text": [
      "1.0\n",
      "[[ 3. -5.]\n",
      " [-1.  2.]]\n",
      "[[1. 0.]\n",
      " [0. 1.]]\n",
      "[[1. 0.]\n",
      " [0. 1.]]\n"
     ]
    }
   ],
   "source": [
    "I = np.array([[2,5],[1,3]])\n",
    "print(np.linalg.det(I)) #可逆\n",
    "I_inv = np.linalg.inv(I)\n",
    "print(I_inv)\n",
    "print(I @ I_inv)\n",
    "print(I_inv @ I) #结果一样"
   ]
  },
  {
   "cell_type": "code",
   "execution_count": 50,
   "id": "6cea0fb4-3468-414c-9630-84a3ee4362a5",
   "metadata": {},
   "outputs": [
    {
     "name": "stdout",
     "output_type": "stream",
     "text": [
      "特征值： [-0.37228132  5.37228132]\n",
      "特征向量（列向量）：\n",
      " [[-0.82456484 -0.41597356]\n",
      " [ 0.56576746 -0.90937671]]\n",
      "A@v1： [-2.23472698 -4.88542751]\n",
      "λ1*v1： [-2.23472698 -4.88542751]\n"
     ]
    }
   ],
   "source": [
    "'''\n",
    "模块 4：特征值与特征向量（机器学习常用）\n",
    "对 n 阶方阵 A，若存在标量 λ（特征值）和非零向量 v（特征向量），满足A @ v = λ * v，可通过np.linalg.eig()计算。\n",
    "'''\n",
    "A = np.array([[1,2],[3,4]])\n",
    "eigenvalues,eigenvectors = np.linalg.eig(A)\n",
    "print(\"特征值：\", eigenvalues)  # 输出两个特征值\n",
    "print(\"特征向量（列向量）：\\n\", eigenvectors)\n",
    "\n",
    "# 验证：A@v ≈ λ*v（取第一个特征值和特征向量）\n",
    "v1 = eigenvectors[:,1]  # 第二列是第二个特征向量\n",
    "lambda1 = eigenvalues[1]\n",
    "print(\"A@v1：\", A @ v1)\n",
    "print(\"λ1*v1：\", lambda1 * v1)\n",
    "# 输出应近似相等（浮点数误差）"
   ]
  },
  {
   "cell_type": "code",
   "execution_count": 59,
   "id": "4a4464fc-0bca-4c33-a30b-cce439c37e93",
   "metadata": {},
   "outputs": [
    {
     "name": "stdout",
     "output_type": "stream",
     "text": [
      "[4. 2.] \n",
      " [[ 0.70710678 -0.70710678]\n",
      " [ 0.70710678  0.70710678]]\n",
      "[2.82842712 2.82842712]\n",
      "[2.82842712 2.82842712]\n"
     ]
    }
   ],
   "source": [
    "'''\n",
    "即时练习 5：特征值验证\n",
    "已知方阵J = np.array([[3,1],[1,3]])，求其特征值和特征向量，并验证J@v = λ*v（任选一个特征值和向量）。\n",
    "'''\n",
    "J = np.array([[3,1],[1,3]])\n",
    "J_λ,J_v = np.linalg.eig(J)\n",
    "print(J_λ,\"\\n\",J_v)\n",
    "print(J @ J_v[:,0])\n",
    "print(J_λ[0] * J_v[:,0])"
   ]
  },
  {
   "cell_type": "code",
   "execution_count": 60,
   "id": "80c0d155-38b3-4668-8120-0dac7afb854d",
   "metadata": {},
   "outputs": [
    {
     "name": "stdout",
     "output_type": "stream",
     "text": [
      "[[11 22]\n",
      " [13 24]\n",
      " [15 26]]\n"
     ]
    }
   ],
   "source": [
    "A = np.array([[1,2],[3,4],[5,6]])  # 3x2\n",
    "vec = np.array([10,20])  # 1x2（向量）\n",
    "print(A + vec)  # 广播：vec扩展为[[10,20],[10,20],[10,20]]"
   ]
  },
  {
   "cell_type": "code",
   "execution_count": 13,
   "id": "8caaa92a-ae3f-4992-83b1-589bb2cd655d",
   "metadata": {},
   "outputs": [
    {
     "name": "stdout",
     "output_type": "stream",
     "text": [
      "[[0.04 0.08]\n",
      " [0.08 0.16]]\n",
      "[[1. 2.]\n",
      " [2. 4.]]\n"
     ]
    }
   ],
   "source": [
    "# 不可逆矩阵（行列式=0）\n",
    "A = np.array([[1,2],[2,4]])  # 两行成比例，不可逆\n",
    "pinv_A = np.linalg.pinv(A)\n",
    "print(pinv_A)\n",
    "# 验证：A@pinv_A@A ≈ A（伪逆的性质）\n",
    "print(A @ pinv_A @ A)"
   ]
  },
  {
   "cell_type": "code",
   "execution_count": 38,
   "id": "a36e448b-bcfb-47be-a599-124a0c6588bb",
   "metadata": {},
   "outputs": [
    {
     "name": "stdout",
     "output_type": "stream",
     "text": [
      "置换矩阵P：\n",
      " [[0. 0. 1.]\n",
      " [1. 0. 0.]\n",
      " [0. 1. 0.]]\n",
      "下三角矩阵L（未合并P）：\n",
      " [[ 1.   0.   0. ]\n",
      " [-0.5  1.   0. ]\n",
      " [ 0.5  0.6  1. ]]\n",
      "上三角矩阵U：\n",
      " [[ 4.  -1.   1. ]\n",
      " [ 0.   2.5  2.5]\n",
      " [ 0.   0.  -3. ]]\n",
      "验证P@L@U：\n",
      " [[ 2.  1. -1.]\n",
      " [ 4. -1.  1.]\n",
      " [-2.  3.  2.]]\n",
      "P@A:\n",
      " [[-2.  3.  2.]\n",
      " [ 2.  1. -1.]\n",
      " [ 4. -1.  1.]]\n",
      "验证P@A == L@U：\n",
      " False\n"
     ]
    }
   ],
   "source": [
    "from scipy.linalg import lu  # NumPy需借助scipy，或用np.linalg.svd\n",
    "A = np.array([[2,1,-1],[4,-1,1],[-2,3,2]])\n",
    "P, L, U = lu(A, permute_l=False)  # 单独返回置换矩阵P\n",
    "print(\"置换矩阵P：\\n\",P)  # 记录行交换的信息\n",
    "print(\"下三角矩阵L（未合并P）：\\n\",L)\n",
    "print(\"上三角矩阵U：\\n\",U)\n",
    "print(\"验证P@L@U：\\n\",P @ L @ U)\n",
    "print(\"P@A:\\n\",P@A) \n",
    "print(\"验证P@A == L@U：\\n\", np.allclose(P@A,L@U))  # 输出True"
   ]
  },
  {
   "cell_type": "code",
   "execution_count": 37,
   "id": "a6ef0123-b7f3-4277-bd78-71e650cb34fc",
   "metadata": {},
   "outputs": [
    {
     "name": "stdout",
     "output_type": "stream",
     "text": [
      "下三角矩阵L：\n",
      " [[ 0.5  0.6  1. ]\n",
      " [ 1.   0.   0. ]\n",
      " [-0.5  1.   0. ]]\n",
      "上三角矩阵U：\n",
      " [[ 4.  -1.   1. ]\n",
      " [ 0.   2.5  2.5]\n",
      " [ 0.   0.  -3. ]]\n",
      "验证L@U：\n",
      " [[ 2.  1. -1.]\n",
      " [ 4. -1.  1.]\n",
      " [-2.  3.  2.]]\n",
      "验证A == L@U：\n",
      " True\n"
     ]
    }
   ],
   "source": [
    "L,U = lu(A,permute_l=True)  # 分解为L（下三角）和U（上三角）\n",
    "print(\"下三角矩阵L：\\n\",L)\n",
    "print(\"上三角矩阵U：\\n\",U)\n",
    "print(\"验证L@U：\\n\",L @ U)  # 应等于原矩阵A\n",
    "print(\"验证A == L@U：\\n\", np.allclose(A,L@U))  # 输出True"
   ]
  },
  {
   "cell_type": "code",
   "execution_count": 5,
   "id": "8be7d7a1-e779-43ee-a16e-51433fd5c5e7",
   "metadata": {},
   "outputs": [
    {
     "name": "stdout",
     "output_type": "stream",
     "text": [
      "A的行列式：-22.00\n",
      "A的逆矩阵inv_A：\n",
      " [[ 0.22727273  0.13636364]\n",
      " [ 0.18181818 -0.09090909]]\n",
      "方程组的解x：\n",
      " [[1.54545455]\n",
      " [1.63636364]]\n",
      "验证A@x：\n",
      " [[ 8.]\n",
      " [-2.]]\n",
      "[8.] [-2.]\n"
     ]
    }
   ],
   "source": [
    "import numpy as np\n",
    "\n",
    "# 1. 定义系数矩阵A和常数项向量b\n",
    "A = np.array([[2, 3],   # 2x2可逆方阵\n",
    "              [4, -5]])\n",
    "b = np.array([[8],      # 2x1常数项向量\n",
    "              [-2]])\n",
    "\n",
    "# 2. 验证A是否可逆（行列式≠0）\n",
    "det_A = np.linalg.det(A)\n",
    "print(f\"A的行列式：{det_A:.2f}\")  # 输出：-22.00（≠0，可逆）\n",
    "\n",
    "# 3. 求A的逆矩阵\n",
    "inv_A = np.linalg.inv(A)\n",
    "print(\"A的逆矩阵inv_A：\\n\", inv_A)\n",
    "\n",
    "# 4. 求解未知数x = inv_A @ b\n",
    "x = inv_A @ b\n",
    "print(\"方程组的解x：\\n\", x)  # 输出x₁, x₂\n",
    "\n",
    "# 5. 验证解的正确性（代入原方程：A@x 应≈ b）\n",
    "verify = A @ x\n",
    "print(\"验证A@x：\\n\", verify)  # 输出[[8.], [-2.]]，与b完全一致"
   ]
  },
  {
   "cell_type": "code",
   "execution_count": 7,
   "id": "d8c1795c-b52c-465c-a378-1eeef9e193ad",
   "metadata": {},
   "outputs": [
    {
     "name": "stdout",
     "output_type": "stream",
     "text": [
      "逆矩阵求解报错： Last 2 dimensions of the array must be square\n",
      "伪逆求解的最小二乘解x：\n",
      " [[0.33333333]\n",
      " [1.41666667]]\n",
      "实际b：\n",
      " [[ 3]\n",
      " [ 7]\n",
      " [10]]\n",
      "预测b（A@x）：\n",
      " [[ 3.16666667]\n",
      " [ 6.66666667]\n",
      " [10.16666667]]\n",
      "误差（||A@x - b||）： 0.408248290463863\n"
     ]
    }
   ],
   "source": [
    "# 1. 定义超定方程组的A和b\n",
    "A = np.array([[1, 2],   # 3x2非方阵（超定：3方程，2未知数）\n",
    "              [3, 4],\n",
    "              [5, 6]])\n",
    "b = np.array([[3],      # 3x1常数项向量\n",
    "              [7],\n",
    "              [10]])\n",
    "\n",
    "# 2. 尝试用逆矩阵求解（会报错！因为A非方阵，无法求逆）\n",
    "try:\n",
    "    inv_A = np.linalg.inv(A)\n",
    "except np.linalg.LinAlgError as e:\n",
    "    print(\"逆矩阵求解报错：\", e)  # 输出报错：Last 2 dimensions of the array must be square\n",
    "\n",
    "# 3. 用伪逆矩阵求解最小二乘解\n",
    "pinv_A = np.linalg.pinv(A)  # 伪逆适用于任意矩阵\n",
    "x = pinv_A @ b\n",
    "print(\"伪逆求解的最小二乘解x：\\n\", x)  # 输出x₁≈0.5, x₂≈1.25\n",
    "\n",
    "# 4. 验证解的误差（超定方程组无精确解，需看误差大小）\n",
    "predict_b = A @ x  # 用解x计算“预测的b”\n",
    "error = np.linalg.norm(predict_b - b)  # 计算误差（向量的2范数，即欧氏距离）\n",
    "print(\"实际b：\\n\", b)\n",
    "print(\"预测b（A@x）：\\n\", predict_b)\n",
    "print(\"误差（||A@x - b||）：\", error)  # 输出误差≈0.5（很小，说明解的精度高）"
   ]
  },
  {
   "cell_type": "code",
   "execution_count": 9,
   "id": "cfde1bb7-6a10-4db5-bc1b-5ff995c9a628",
   "metadata": {},
   "outputs": [
    {
     "name": "stdout",
     "output_type": "stream",
     "text": [
      "LU分解求解的x： [1.54545455 1.63636364]\n",
      "验证A@x： [ 8. -2.]\n"
     ]
    }
   ],
   "source": [
    "import numpy as np\n",
    "from scipy.linalg import lu_solve, lu_factor  # 用scipy的LU分解工具（更高效）\n",
    "\n",
    "# 1. 定义可逆方程组（同场景1）\n",
    "A = np.array([[2, 3],\n",
    "              [4, -5]])\n",
    "b = np.array([8, -2])  # 注意：lu_solve要求b是1维向量\n",
    "\n",
    "# 2. LU分解：将A拆为L（下三角）和U（上三角），返回分解后的因子\n",
    "lu_factor_A, piv = lu_factor(A)  # piv是置换矩阵索引，处理数值稳定性\n",
    "\n",
    "# 3. 求解x：通过前向替换（解L@y = b）和后向替换（解U@x = y）\n",
    "x = lu_solve((lu_factor_A, piv), b)\n",
    "print(\"LU分解求解的x：\", x)  # 输出[1. 2.]，与逆矩阵结果一致\n",
    "\n",
    "# 4. 验证\n",
    "print(\"验证A@x：\", A @ x)  # 输出[ 8. -2.]，与b一致"
   ]
  },
  {
   "cell_type": "code",
   "execution_count": 46,
   "id": "ba19065f-e775-4014-bccb-cee89c7f24f2",
   "metadata": {},
   "outputs": [
    {
     "name": "stdout",
     "output_type": "stream",
     "text": [
      "A的2次幂：\n",
      " [[ 7 10]\n",
      " [15 22]]\n",
      "\n",
      "A的逆矩阵（A^-1）：\n",
      " [[-2.   1. ]\n",
      " [ 1.5 -0.5]]\n",
      "\n",
      "元素级指数运算：\n",
      " [[ 2.72  7.39]\n",
      " [20.09 54.6 ]]\n",
      "\n",
      "元素级自然对数：\n",
      " [[0.   0.69]\n",
      " [1.1  1.39]]\n",
      "\n",
      "元素级三角函数：\n",
      " [[ 0.84  0.91]\n",
      " [ 0.14 -0.76]]\n"
     ]
    }
   ],
   "source": [
    "# ① 矩阵幂（2阶方阵的2次幂）\n",
    "A = np.array([[1,2],[3,4]])\n",
    "A_power2 = np.linalg.matrix_power(A, 2)  # A^2 = A@A\n",
    "A_inv = np.linalg.matrix_power(A, -1)    # A^-1 = 逆矩阵（等价于np.linalg.inv(A)）\n",
    "print(\"A的2次幂：\\n\", A_power2)\n",
    "print(\"\\nA的逆矩阵（A^-1）：\\n\", A_inv)\n",
    "\n",
    "# ② 元素级函数（每个元素单独计算）\n",
    "B = np.array([[1,2],[3,4]])\n",
    "B_exp = np.exp(B)    # 每个元素求e的幂（e^1, e^2, ...）\n",
    "B_log = np.log(B)    # 每个元素求自然对数（ln1, ln2, ...） 元素须大于0 支持复数\n",
    "B_sin = np.sin(B)    # 每个元素求正弦值（sin1, sin2, ...） 支持复数\n",
    "print(\"\\n元素级指数运算：\\n\", np.round(B_exp, 2))  # 保留2位小数\n",
    "print(\"\\n元素级自然对数：\\n\", np.round(B_log, 2))\n",
    "print(\"\\n元素级三角函数：\\n\", np.round(B_sin, 2))"
   ]
  },
  {
   "cell_type": "code",
   "execution_count": 52,
   "id": "a4470c0b-dd72-413d-b512-9678399d7a0d",
   "metadata": {},
   "outputs": [
    {
     "name": "stdout",
     "output_type": "stream",
     "text": [
      "1范数（列范数）： 18.0\n",
      "2范数（谱范数）： 16.85\n",
      "无穷范数（行范数）： 24.0\n",
      "F范数： 16.88\n",
      "最大奇异值为： 16.85\n"
     ]
    }
   ],
   "source": [
    "mat = np.array([[1,2,3],[4,5,6],[7,8,9]])\n",
    "\n",
    "# 计算4种常用范数\n",
    "norm_1 = np.linalg.norm(mat, ord=1)    # 1范数   各列元素绝对值之和中的最大值\n",
    "norm_2 = np.linalg.norm(mat, ord=2)    # 2范数（默认）  最大奇异值（）\n",
    "norm_inf = np.linalg.norm(mat, ord=np.inf)  # 无穷范数  各行元素绝对值之和中的最大值\n",
    "norm_fro = np.linalg.norm(mat, ord=\"fro\") # F范数   所有元素平方和开方\n",
    "print(\"1范数（列范数）：\", np.round(norm_1, 2))  # 输出 18.0（第三列15？不对，算错了：1+4+7=12，2+5+8=15，3+6+9=18 → 最大值18）\n",
    "print(\"2范数（谱范数）：\", np.round(norm_2, 2))  # 输出 16.84（计算结果）\n",
    "print(\"无穷范数（行范数）：\", np.round(norm_inf, 2))  # 输出 24.0（第三行7+8+9=24）\n",
    "print(\"F范数：\",np.round(norm_fro,2)) # 输出16.88\n",
    "U,S,Vt = np.linalg.svd(mat) # S为奇异值数组\n",
    "print(\"最大奇异值为：\",max(S).round(2))"
   ]
  },
  {
   "cell_type": "code",
   "execution_count": 54,
   "id": "161b3907-b189-4762-a9d5-34cedab65be7",
   "metadata": {},
   "outputs": [
    {
     "name": "stdout",
     "output_type": "stream",
     "text": [
      "方程组A@x=b的唯一解： [1. 2.]\n",
      "验证：A@x_exact = [ 8. 14.]\n",
      "\n",
      "超定方程组的最小二乘解： [0.33333333 1.41666667]\n",
      "最小误差（残差）： 0.1666666666666668\n"
     ]
    }
   ],
   "source": [
    "# ① 可逆方阵（有唯一解）\n",
    "A = np.array([[2,3],[4,5]])  # 2阶可逆方阵\n",
    "b = np.array([8, 14])        # 常数项向量\n",
    "x_exact = np.linalg.solve(A, b)  # 唯一解\n",
    "print(\"方程组A@x=b的唯一解：\", x_exact)\n",
    "print(\"验证：A@x_exact =\", A@x_exact)  # 输出 [8. 14.]，和b一致\n",
    "\n",
    "# ② 超定方程组（方程数3>未知数2，无精确解）\n",
    "A_over = np.array([[1,2],[3,4],[5,6]])  # 3行2列（3方程，2未知数）\n",
    "b_over = np.array([3,7,10])             # 常数项向量\n",
    "x_lstsq,residuals,_,_ = np.linalg.lstsq(A_over, b_over, rcond=None)\n",
    "print(\"\\n超定方程组的最小二乘解：\", x_lstsq)\n",
    "print(\"最小误差（残差）：\", residuals[0])  # 误差越小，解越好"
   ]
  },
  {
   "cell_type": "code",
   "execution_count": 64,
   "id": "94199bb7-c834-4492-b8cf-654e936e8323",
   "metadata": {},
   "outputs": [
    {
     "name": "stdout",
     "output_type": "stream",
     "text": [
      "随机矩阵：\n",
      " [[0.17658784 0.84793375]\n",
      " [0.79417008 0.50439005]\n",
      " [0.2416497  0.88550503]\n",
      " [0.32790211 0.42116391]\n",
      " [0.02075731 0.10819383]]\n",
      "真实系数w1: -0.29355463522921255 \n",
      "真实系数w2: 0.8537496846048703\n",
      "特征：\n",
      " [[0.17658784 0.84793375]\n",
      " [0.79417008 0.50439005]\n",
      " [0.2416497  0.88550503]\n",
      " [0.32790211 0.42116391]\n",
      " [0.02075731 0.10819383]]\n",
      "伪逆求得的系数：w1=-0.29, w2=0.85\n",
      "\n",
      "预测标签： [0.67 0.2  0.69 0.26 0.09]\n",
      "真实标签： [0.72 0.14 0.44 0.51 0.99]\n"
     ]
    }
   ],
   "source": [
    "# 模拟数据：特征X（2个特征，5个样本），标签y（y = 2*X1 + 3*X2 + 0.1*噪声）\n",
    "X = np.random.rand(5, 2)  # 5个样本，2个特征（X1, X2）\n",
    "print(\"随机矩阵：\\n\",X)\n",
    "Y = np.random.rand(5)\n",
    "XTX_inv = np.linalg.inv(X.T@X)\n",
    "beta = XTX_inv @ X.T @ Y\n",
    "print(\"真实系数w1:\",beta[0],\"\\n真实系数w2:\",beta[1])\n",
    "print(\"特征：\\n\",X)\n",
    "# 用伪逆求回归系数w（w = pinv(X) @ Y）\n",
    "X_pinv = np.linalg.pinv(X)\n",
    "w = X_pinv @ Y\n",
    "\n",
    "\n",
    "print(\"伪逆求得的系数：w1={:.2f}, w2={:.2f}\".format(w[0], w[1]))  # 结果接近真实值（噪声影响）\n",
    "\n",
    "# 验证：用系数预测标签（Y_pred = X @ w）\n",
    "Y_pred = X @ w\n",
    "print(\"\\n预测标签：\", np.round(Y_pred, 2))\n",
    "print(\"真实标签：\", np.round(Y, 2))"
   ]
  },
  {
   "cell_type": "code",
   "execution_count": 65,
   "id": "9b0f3ba6-34ec-406c-9cea-12082ea31bf2",
   "metadata": {},
   "outputs": [
    {
     "name": "stdout",
     "output_type": "stream",
     "text": [
      "QR分解：Q（正交矩阵）\n",
      " [[-0.41  0.58 -0.71]\n",
      " [-0.82  0.12  0.57]\n",
      " [ 0.41  0.81  0.42]]\n",
      "QR分解：R（上三角矩阵）\n",
      " [[-4.9   1.63  0.41]\n",
      " [ 0.    2.89  1.15]\n",
      " [ 0.    0.    2.12]]\n",
      "验证Q@R ≈ A：\n",
      " [[ 2.  1. -1.]\n",
      " [ 4. -1.  1.]\n",
      " [-2.  3.  2.]]\n",
      "\n",
      "SVD分解：U（左奇异矩阵）\n",
      " [[-0.28  0.33 -0.9 ]\n",
      " [-0.72  0.56  0.42]\n",
      " [ 0.64  0.76  0.08]]\n",
      "SVD分解：S（奇异值向量）\n",
      " [5.33 3.03 1.86]\n",
      "SVD分解：VT（右奇异矩阵）\n",
      " [[-0.88  0.44  0.16]\n",
      " [ 0.45  0.68  0.58]\n",
      " [-0.15 -0.58  0.8 ]]\n",
      "验证U@S_mat@VT ≈ A：\n",
      " [[ 2.  1. -1.]\n",
      " [ 4. -1.  1.]\n",
      " [-2.  3.  2.]]\n"
     ]
    }
   ],
   "source": [
    "# ① QR分解（解方阵系统且追求效率用LU分解，解过定系统、病态矩阵或需要高稳定性用QR分解）\n",
    "A = np.array([[2,1,-1],[4,-1,1],[-2,3,2]])\n",
    "Q, R = np.linalg.qr(A)\n",
    "print(\"QR分解：Q（正交矩阵）\\n\", np.round(Q, 2))\n",
    "print(\"QR分解：R（上三角矩阵）\\n\", np.round(R, 2))\n",
    "print(\"验证Q@R ≈ A：\\n\", np.round(Q@R, 2))  # 结果接近A\n",
    "\n",
    "# ② SVD分解\n",
    "U, S, VT = np.linalg.svd(A)\n",
    "# 注意：S是奇异值向量，需转为对角矩阵才能和U、VT相乘\n",
    "S_mat = np.zeros_like(A, dtype=float)\n",
    "np.fill_diagonal(S_mat, S)  # 将S填入对角矩阵\n",
    "\n",
    "print(\"\\nSVD分解：U（左奇异矩阵）\\n\", np.round(U, 2))\n",
    "print(\"SVD分解：S（奇异值向量）\\n\", np.round(S, 2))\n",
    "print(\"SVD分解：VT（右奇异矩阵）\\n\", np.round(VT, 2))\n",
    "print(\"验证U@S_mat@VT ≈ A：\\n\", np.round(U@S_mat@VT, 2))  # 结果接近A"
   ]
  },
  {
   "cell_type": "code",
   "execution_count": null,
   "id": "9fe817c9-1843-400b-91d1-a5437fc45d8c",
   "metadata": {},
   "outputs": [],
   "source": []
  }
 ],
 "metadata": {
  "kernelspec": {
   "display_name": "Python [conda env:base] *",
   "language": "python",
   "name": "conda-base-py"
  },
  "language_info": {
   "codemirror_mode": {
    "name": "ipython",
    "version": 3
   },
   "file_extension": ".py",
   "mimetype": "text/x-python",
   "name": "python",
   "nbconvert_exporter": "python",
   "pygments_lexer": "ipython3",
   "version": "3.13.5"
  }
 },
 "nbformat": 4,
 "nbformat_minor": 5
}
