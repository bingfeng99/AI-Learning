{
 "cells": [
  {
   "cell_type": "code",
   "execution_count": 5,
   "id": "8dd9196c-3bf8-4741-a014-fffb56073254",
   "metadata": {},
   "outputs": [
    {
     "name": "stdout",
     "output_type": "stream",
     "text": [
      "姓名：\n",
      "101    张三\n",
      "102    李四\n",
      "103    王五\n",
      "104    赵六\n",
      "105    钱七\n",
      "dtype: object\n",
      "\n",
      "数学成绩：\n",
      "101     85\n",
      "102     92\n",
      "103     78\n",
      "104    990\n",
      "105     65\n",
      "dtype: int64\n"
     ]
    }
   ],
   "source": [
    "import pandas as pd\n",
    "ID = [101,102,103,104,105]\n",
    "name = pd.Series([\"张三\",\"李四\",\"王五\",\"赵六\",\"钱七\"],\n",
    "                 index=ID)\n",
    "math = pd.Series([85,92,78,990,65],\n",
    "                 index=ID)\n",
    "print(\"姓名：\")\n",
    "print(name)\n",
    "print(\"\\n数学成绩：\")\n",
    "print(math)"
   ]
  },
  {
   "cell_type": "code",
   "execution_count": 9,
   "id": "0da7dd24-c1f0-42f1-9be4-04e1dd362b3f",
   "metadata": {},
   "outputs": [
    {
     "name": "stdout",
     "output_type": "stream",
     "text": [
      "学生信息：\n",
      "     姓名  数学  语文 性别\n",
      "101  张三  85  88  男\n",
      "102  李四  92  80  男\n",
      "103  王五  78  95  女\n",
      "104  赵六  90  76  男\n",
      "105  钱七  65  82  女\n"
     ]
    }
   ],
   "source": [
    "student_df = pd.DataFrame({'姓名':[\"张三\",\"李四\",\"王五\",\"赵六\",\"钱七\"],\n",
    "                    '数学':[85, 92, 78, 90, 65],\n",
    "                    '语文':[88, 80, 95, 76, 82],\n",
    "                    '性别':['男', '男', '女', '男', '女']},index=ID)\n",
    "print(\"学生信息：\")\n",
    "print(student_df)"
   ]
  },
  {
   "cell_type": "code",
   "execution_count": 25,
   "id": "621b7c2e-eae1-4889-93a5-5436163f958b",
   "metadata": {},
   "outputs": [
    {
     "name": "stdout",
     "output_type": "stream",
     "text": [
      "前3行：\n",
      "     姓名  数学  语文 性别\n",
      "101  张三  85  88  男\n",
      "102  李四  92  80  男\n",
      "103  王五  78  95  女\n",
      "\n",
      "后2行：\n",
      "     姓名  数学  语文 性别\n",
      "104  赵六  90  76  男\n",
      "105  钱七  65  82  女\n",
      "\n",
      "形状（行数, 列数）： (5, 4)\n",
      "\n",
      "数据概览：\n",
      "<class 'pandas.core.frame.DataFrame'>\n",
      "Index: 5 entries, 101 to 105\n",
      "Data columns (total 4 columns):\n",
      " #   Column  Non-Null Count  Dtype \n",
      "---  ------  --------------  ----- \n",
      " 0   姓名      5 non-null      object\n",
      " 1   数学      5 non-null      int64 \n",
      " 2   语文      5 non-null      int64 \n",
      " 3   性别      5 non-null      object\n",
      "dtypes: int64(2), object(2)\n",
      "memory usage: 372.0+ bytes\n",
      "None\n",
      "姓名 类别: object 非空值: 5\n",
      "数学 类别: int64 非空值: 5\n",
      "语文 类别: int64 非空值: 5\n",
      "性别 类别: object 非空值: 5\n",
      "\n",
      "数值列统计量：\n",
      "              数学        语文\n",
      "count   5.000000   5.00000\n",
      "mean   82.000000  84.20000\n",
      "std    10.931606   7.42967\n",
      "min    65.000000  76.00000\n",
      "25%    78.000000  80.00000\n",
      "50%    85.000000  82.00000\n",
      "75%    90.000000  88.00000\n",
      "max    92.000000  95.00000\n"
     ]
    }
   ],
   "source": [
    "# 查看前3行\n",
    "print(\"前3行：\")\n",
    "print(student_df.head(3))\n",
    "\n",
    "# 查看后2行\n",
    "print(\"\\n后2行：\")\n",
    "print(student_df.tail(2))\n",
    "\n",
    "# 查看形状\n",
    "print(\"\\n形状（行数, 列数）：\", student_df.shape)\n",
    "\n",
    "# 查看数据类型和非空值\n",
    "print(\"\\n数据概览：\")\n",
    "print(student_df.info())\n",
    "\n",
    "for a in student_df.columns.tolist():print(a,\n",
    "                                           \"类别:\",student_df[a].dtypes,\n",
    "                                           \"非空值:\",student_df[a].notnull().sum())\n",
    "\n",
    "# 查看数值列统计量\n",
    "print(\"\\n数值列统计量：\")\n",
    "print(student_df.describe())"
   ]
  },
  {
   "cell_type": "code",
   "execution_count": 19,
   "id": "8d50db40-062a-45b4-879f-cdb245ab811b",
   "metadata": {},
   "outputs": [
    {
     "name": "stdout",
     "output_type": "stream",
     "text": [
      "101    88\n",
      "102    80\n",
      "103    95\n",
      "104    76\n",
      "105    82\n",
      "Name: 语文, dtype: int64\n",
      "     姓名  数学\n",
      "101  张三  85\n",
      "102  李四  92\n",
      "103  王五  78\n",
      "104  赵六  90\n",
      "105  钱七  65\n",
      "姓名    王五\n",
      "数学    78\n",
      "语文    95\n",
      "性别     女\n",
      "Name: 103, dtype: object\n",
      "92\n",
      "     姓名  语文\n",
      "101  张三  88\n",
      "102  李四  80\n",
      "103  王五  95\n"
     ]
    }
   ],
   "source": [
    "print(student_df['语文'])\n",
    "print(student_df[['姓名','数学']])\n",
    "print(student_df.loc[103])\n",
    "print(student_df.loc[102]['数学'])\n",
    "print(student_df[['姓名','语文']].head(3))\n"
   ]
  },
  {
   "cell_type": "code",
   "execution_count": null,
   "id": "64fd954c-57c0-4b87-b35f-3c9be1aa1837",
   "metadata": {},
   "outputs": [],
   "source": []
  }
 ],
 "metadata": {
  "kernelspec": {
   "display_name": "Python [conda env:base] *",
   "language": "python",
   "name": "conda-base-py"
  },
  "language_info": {
   "codemirror_mode": {
    "name": "ipython",
    "version": 3
   },
   "file_extension": ".py",
   "mimetype": "text/x-python",
   "name": "python",
   "nbconvert_exporter": "python",
   "pygments_lexer": "ipython3",
   "version": "3.13.5"
  }
 },
 "nbformat": 4,
 "nbformat_minor": 5
}
