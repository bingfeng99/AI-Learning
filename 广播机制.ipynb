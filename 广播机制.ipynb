{
 "cells": [
  {
   "cell_type": "code",
   "execution_count": 1,
   "id": "6fb8929a-eec7-45d5-a607-641d4eba902d",
   "metadata": {},
   "outputs": [
    {
     "name": "stdout",
     "output_type": "stream",
     "text": [
      "手动复制后相加：\n",
      " [[11 22 33]\n",
      " [14 25 36]]\n",
      "广播自动扩展后相加：\n",
      " [[11 22 33]\n",
      " [14 25 36]]\n"
     ]
    }
   ],
   "source": [
    "import numpy as np\n",
    "\n",
    "# 没有广播：需要手动复制向量\n",
    "A = np.array([[1,2,3],[4,5,6]])  # 2×3矩阵\n",
    "B = np.array([10,20,30])         # 1×3向量\n",
    "B_repeat = np.tile(B, (2,1))     # 手动复制B成2×3（每行都和B一样）\n",
    "print(\"手动复制后相加：\\n\", A + B_repeat)  # 输出 [[11,22,33],[14,25,26]]\n",
    "\n",
    "# 有广播：自动扩展，代码更简洁\n",
    "print(\"广播自动扩展后相加：\\n\", A + B)  # 输出和上面完全一样，无需手动复制"
   ]
  },
  {
   "cell_type": "code",
   "execution_count": 2,
   "id": "54eab932-f8a7-4649-a391-29bf32232e01",
   "metadata": {},
   "outputs": [
    {
     "name": "stdout",
     "output_type": "stream",
     "text": [
      "标量+1维数组： [3 4 5]\n",
      "标量×2维数组：\n",
      " [[ 3  6]\n",
      " [ 9 12]]\n"
     ]
    }
   ],
   "source": [
    "# 标量 + 1维数组\n",
    "arr1d = np.array([1,2,3])\n",
    "print(\"标量+1维数组：\", arr1d + 2)  # 输出 [3,4,5]（每个元素加2）\n",
    "\n",
    "# 标量 × 2维数组\n",
    "arr2d = np.array([[1,2],[3,4]])\n",
    "print(\"标量×2维数组：\\n\", arr2d * 3)  # 输出 [[3,6],[9,12]]（每个元素乘3）"
   ]
  },
  {
   "cell_type": "code",
   "execution_count": 3,
   "id": "26611da8-1374-4741-8e8b-b462d794def9",
   "metadata": {},
   "outputs": [
    {
     "name": "stdout",
     "output_type": "stream",
     "text": [
      "行向量+矩阵（按行扩展）：\n",
      " [[11 22 33]\n",
      " [14 25 36]\n",
      " [17 28 39]]\n",
      "列向量+矩阵（按列扩展）：\n",
      " [[101 102 103]\n",
      " [204 205 206]\n",
      " [307 308 309]]\n"
     ]
    }
   ],
   "source": [
    "# 场景2.1：1维数组（行向量）和2维数组（按行扩展）\n",
    "A = np.array([[1,2,3],[4,5,6],[7,8,9]])  # 3×3矩阵\n",
    "B = np.array([10,20,30])                  # 1×3行向量（补全后(1,3)）\n",
    "print(\"行向量+矩阵（按行扩展）：\\n\", A + B)\n",
    "# 输出：\n",
    "# [[11,22,33]\n",
    "#  [14,25,36]\n",
    "#  [17,28,39]]  # B的每一行都和A的对应行相加\n",
    "\n",
    "# 场景2.2：1维数组（列向量）和2维数组（按列扩展）\n",
    "C = np.array([[100],[200],[300]])         # 3×1列向量（补全后(3,1)）\n",
    "print(\"列向量+矩阵（按列扩展）：\\n\", A + C) # C的每一列都和A的对应列相加"
   ]
  },
  {
   "cell_type": "code",
   "execution_count": 5,
   "id": "f3234b6a-4ae3-406f-83b5-a6a3f2a6a9ed",
   "metadata": {},
   "outputs": [
    {
     "name": "stdout",
     "output_type": "stream",
     "text": [
      "两个数组广播成2×3：\n",
      " [[5 6 7]\n",
      " [6 7 8]]\n"
     ]
    }
   ],
   "source": [
    "import numpy as np\n",
    "\n",
    "x = np.array([1,2,3])        # 形状(3,) → 补全后(1,3)\n",
    "y = np.array([4,5]).reshape(2,1)  # 手动改为(2,1) → 补全后(2,1)（无需补维度）\n",
    "\n",
    "# 现在检查兼容性：\n",
    "# x补全后(1,3)，y形状(2,1)\n",
    "# 第一维：1和2（有一个是1，兼容）\n",
    "# 第二维：3和1（有一个是1，兼容）\n",
    "grid = x + y\n",
    "print(\"两个数组广播成2×3：\\n\", grid)\n",
    "# 输出：\n",
    "# [[5 6 7]\n",
    "#  [6 7 8]]  # 正确运行，无报错"
   ]
  },
  {
   "cell_type": "code",
   "execution_count": 8,
   "id": "0e1cf5fe-29f3-4397-9e7d-ca1bccdc5a31",
   "metadata": {},
   "outputs": [
    {
     "name": "stdout",
     "output_type": "stream",
     "text": [
      "\n",
      "网格x坐标：\n",
      " [[1 2 3]\n",
      " [1 2 3]]\n",
      "网格y坐标：\n",
      " [[4 4 4]\n",
      " [5 5 5]]\n"
     ]
    }
   ],
   "source": [
    "x = np.array([1,2,3])  # (3,)\n",
    "y = np.array([4,5])    # (2,)\n",
    "\n",
    "# 应用：生成二维坐标网格（机器学习中常用）\n",
    "xx, yy = np.meshgrid(x, y)\n",
    "print(\"\\n网格x坐标：\\n\", xx)  # 输出 [[1,2,3],[1,2,3]]\n",
    "print(\"网格y坐标：\\n\", yy)  # 输出 [[4,4,4],[5,5,5]"
   ]
  }
 ],
 "metadata": {
  "kernelspec": {
   "display_name": "Python [conda env:base] *",
   "language": "python",
   "name": "conda-base-py"
  },
  "language_info": {
   "codemirror_mode": {
    "name": "ipython",
    "version": 3
   },
   "file_extension": ".py",
   "mimetype": "text/x-python",
   "name": "python",
   "nbconvert_exporter": "python",
   "pygments_lexer": "ipython3",
   "version": "3.13.5"
  }
 },
 "nbformat": 4,
 "nbformat_minor": 5
}
