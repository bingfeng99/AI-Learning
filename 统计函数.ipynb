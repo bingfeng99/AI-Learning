{
 "cells": [
  {
   "cell_type": "code",
   "execution_count": 2,
   "id": "37faae28-e45d-4896-9a77-cb36d8c664d3",
   "metadata": {},
   "outputs": [],
   "source": [
    "import numpy as np"
   ]
  },
  {
   "cell_type": "code",
   "execution_count": 9,
   "id": "a1292cb8-4408-425d-aa66-1dfd6ee594b7",
   "metadata": {},
   "outputs": [
    {
     "name": "stdout",
     "output_type": "stream",
     "text": [
      "78\n",
      "[15 18 21 24]\n",
      "[[10]\n",
      " [26]\n",
      " [42]] \n",
      " (3, 1)\n"
     ]
    }
   ],
   "source": [
    "# 示例数据：3行4列的数组（可理解为3个样本，每个样本4个特征）\n",
    "data = np.array([[1, 2, 3, 4],\n",
    "                 [5, 6, 7, 8],\n",
    "                 [9, 10, 11, 12]])\n",
    "\n",
    "total = np.sum(data) # 计算所有元素总和\n",
    "print(total)\n",
    "sum_col = np.sum(data,axis=0) #按列求和\n",
    "print(sum_col) \n",
    "sum_row = np.sum(data,axis=1,keepdims=True) #按行求和\n",
    "print(sum_row)"
   ]
  },
  {
   "cell_type": "code",
   "execution_count": 16,
   "id": "e0f29dd7-bc2f-47ec-8431-9a254233ed56",
   "metadata": {},
   "outputs": [
    {
     "name": "stdout",
     "output_type": "stream",
     "text": [
      "所有元素均值： 6.5\n",
      "按列均值： [5. 6. 7. 8.]\n",
      "按行均值： [ 2.5  6.5 10.5]\n"
     ]
    }
   ],
   "source": [
    "# 计算所有元素的均值\n",
    "mean_total = np.mean(data)\n",
    "print(\"所有元素均值：\", mean_total)  # 输出 6.5（78/12）\n",
    "\n",
    "# 按列求均值（每个特征的平均）\n",
    "mean_col = np.mean(data, axis=0)\n",
    "print(\"按列均值：\",mean_col)  # 输出 [5. 6. 7. 8.]（15/3=5，18/3=6，等）\n",
    "\n",
    "# 按行求均值（每个样本的平均）\n",
    "mean_row = np.mean(data, axis=1)\n",
    "print(\"按行均值：\",mean_row)  # 输出 [2.5  6.5 10.5]（10/4=2.5，等）"
   ]
  },
  {
   "cell_type": "code",
   "execution_count": 17,
   "id": "ef17d34a-c850-4f8f-afcf-01014da330f4",
   "metadata": {},
   "outputs": [
    {
     "name": "stdout",
     "output_type": "stream",
     "text": [
      "均值（受极端值影响大）： 22.0\n",
      "中位数（抗极端值）： 3.0\n",
      "按列中位数： [5. 6. 7. 8.]\n"
     ]
    }
   ],
   "source": [
    "# 示例数据（含极端值）\n",
    "data_with_outlier = np.array([1, 2, 3, 4, 100])\n",
    "\n",
    "# 均值 vs 中位数（对比极端值的影响）\n",
    "print(\"均值（受极端值影响大）：\", np.mean(data_with_outlier))  # 输出 22.0\n",
    "print(\"中位数（抗极端值）：\", np.median(data_with_outlier))    # 输出 3.0\n",
    "\n",
    "# 二维数组按列求中位数\n",
    "median_col = np.median(data, axis=0)\n",
    "print(\"按列中位数：\", median_col)  # 输出 [5. 6. 7. 8.]（和均值相同，因数据对称）"
   ]
  },
  {
   "cell_type": "code",
   "execution_count": 20,
   "id": "f7f3087e-a6f5-46af-9762-b9702a75a4ae",
   "metadata": {},
   "outputs": [
    {
     "name": "stdout",
     "output_type": "stream",
     "text": [
      "data1标准差： 1.4142135623730951\n",
      "data2标准差： 2.8284271247461903\n",
      "总体方差 vs 样本方差： 0.6666666666666666 1.0\n"
     ]
    }
   ],
   "source": [
    "# 示例：两组数据的离散程度对比\n",
    "data1 = np.array([1, 2, 3, 4, 5])  # 集中\n",
    "data2 = np.array([1, 3, 5, 7, 9])  # 分散\n",
    "\n",
    "print(\"data1标准差：\", np.std(data1))  # 输出 1.414（偏离小）\n",
    "print(\"data2标准差：\", np.std(data2))  # 输出 2.828（偏离大）\n",
    "\n",
    "# 样本方差（ddof=1）：用于样本估计总体时，修正偏差\n",
    "sample_data = np.array([1, 2, 3])\n",
    "pop_var = np.var(sample_data, ddof=0)  # 总体方差：((1-2)²+(2-2)²+(3-2)²)/3 ≈ 0.667\n",
    "sam_var = np.var(sample_data, ddof=1)  # 样本方差：同上，但除以2 → 1.0\n",
    "print(\"总体方差 vs 样本方差：\", pop_var, sam_var)"
   ]
  },
  {
   "cell_type": "code",
   "execution_count": 25,
   "id": "6f13cda0-2012-4d30-8a91-10d5190b8125",
   "metadata": {},
   "outputs": [
    {
     "name": "stdout",
     "output_type": "stream",
     "text": [
      "最大值： 12\n",
      "最小值： 1\n",
      "每行最大值： [ 4  8 12]\n",
      "极差： 11\n"
     ]
    }
   ],
   "source": [
    "# 最大值和最小值\n",
    "print(\"最大值：\", np.max(data))  # 输出 12\n",
    "print(\"最小值：\", np.min(data))  # 输出 1\n",
    "\n",
    "# 按行找最大值（每个样本的最大特征）\n",
    "max_row = np.max(data, axis=1)\n",
    "print(\"每行最大值：\", max_row)  # 输出 [4 8 12]\n",
    "\n",
    "# 极差\n",
    "print(\"极差：\", np.ptp(data))  # 输出 11（12-1）"
   ]
  },
  {
   "cell_type": "code",
   "execution_count": 30,
   "id": "3fccb585-3a4c-44b0-aa01-71690ae377ea",
   "metadata": {},
   "outputs": [
    {
     "name": "stdout",
     "output_type": "stream",
     "text": [
      "25%分位数： 3.25\n",
      "50%分位数： 5.5\n",
      "75%分位数： 7.75\n",
      "箱线图统计量： [ 1.    3.25  5.5   7.75 10.  ]\n"
     ]
    }
   ],
   "source": [
    "# 示例数据（10个元素）\n",
    "data = np.array([1, 2, 3, 4, 5, 6, 7, 8, 9, 10])\n",
    "\n",
    "# 计算四分位数（常用统计量）\n",
    "p25 = np.percentile(data, 25)  # 下四分位（25%位置）\n",
    "p50 = np.percentile(data, 50)  # 中位数\n",
    "p75 = np.percentile(data, 75)  # 上四分位\n",
    "print(\"25%分位数：\", p25)  # 输出 3.25（不同版本可能有细微差异，核心是分位置）\n",
    "print(\"50%分位数：\", p50)  # 输出 5.5\n",
    "print(\"75%分位数：\", p75)  # 输出 7.75\n",
    "\n",
    "# 箱线图的5个关键分位数（0,25,50,75,100）\n",
    "box_stats = np.percentile(data, [0, 25, 50, 75, 100])\n",
    "print(\"箱线图统计量：\", box_stats) "
   ]
  },
  {
   "cell_type": "code",
   "execution_count": 35,
   "id": "d5bb916d-fc8a-4ead-8125-a45dd0346846",
   "metadata": {},
   "outputs": [
    {
     "name": "stdout",
     "output_type": "stream",
     "text": [
      "协方差矩阵：\n",
      " [[2.5 1.5]\n",
      " [1.5 1.5]]\n",
      "[[1.         0.77459667]\n",
      " [0.77459667 1.        ]]\n"
     ]
    }
   ],
   "source": [
    "# 示例：两个变量（特征）的协方差\n",
    "# 变量x：[1,2,3,4,5]，变量y：[2,4,5,4,5]（大致正相关）\n",
    "x = np.array([1, 2, 3, 4, 5])\n",
    "y = np.array([2, 4, 5, 4, 5])\n",
    "data_cov = np.vstack([x, y])  # 按行堆叠（每行一个变量）\n",
    "\n",
    "cov_matrix = np.cov(data_cov)\n",
    "print(\"协方差矩阵：\\n\", cov_matrix)\n",
    "# 输出：\n",
    "# [[2.5  2. ]   → 第1行：x的方差（2.5），x与y的协方差（2.0）\n",
    "#  [2.   1.6]]  → 第2行：y与x的协方差（2.0），y的方差（1.6）\n",
    "# 结论：x和y正相关（协方差为正） 为0不相关，为负是否为负相关\n",
    "corr_matrix = np.corrcoef(data_cov)\n",
    "print(corr_matrix)"
   ]
  },
  {
   "cell_type": "code",
   "execution_count": 40,
   "id": "44c8b6fa-ad6c-4b30-b176-9b6e4117a4bd",
   "metadata": {},
   "outputs": [
    {
     "name": "stdout",
     "output_type": "stream",
     "text": [
      "[  1   3   3  15  19  55  67  74 112 104 129 120  92  80  53  35  19  12\n",
      "   5   2]\n",
      "[-3.30304177 -2.98291539 -2.66278901 -2.34266263 -2.02253625]\n"
     ]
    },
    {
     "data": {
      "image/png": "[encoded data removed]",
      "text/plain": [
       "<Figure size 640x480 with 1 Axes>"
      ]
     },
     "metadata": {},
     "output_type": "display_data"
    }
   ],
   "source": [
    "normal_data = np.random.randn(1000)\n",
    "counts,bins = np.histogram(normal_data,bins=20)\n",
    "print(counts)\n",
    "print(bins[:5])\n",
    "import matplotlib.pyplot as plt\n",
    "plt.hist(normal_data,bins=20,edgecolor='black')\n",
    "plt.title(\"histogram\") #正太分布直方图，无法使用汉字？\n",
    "plt.show()"
   ]
  },
  {
   "cell_type": "code",
   "execution_count": 43,
   "id": "8861a002-6d36-4fcd-8702-e75c8baebd3d",
   "metadata": {},
   "outputs": [
    {
     "name": "stdout",
     "output_type": "stream",
     "text": [
      "普通均值（含nan）： nan\n",
      "忽略nan的均值： 3.0\n",
      "忽略nan的中位数： 3.0\n",
      "忽略nan的标准差： 1.5811388300841898\n"
     ]
    }
   ],
   "source": [
    "# 含缺失值的数据\n",
    "data_with_nan = np.array([1, 2, np.nan, 4, 5])\n",
    "# 普通mean返回nan，nanmean自动忽略nan\n",
    "print(\"普通均值（含nan）：\", np.mean(data_with_nan))  # 输出 nan\n",
    "print(\"忽略nan的均值：\", np.nanmean(data_with_nan))  # 输出 3.0（(1+2+4+5)/4）\n",
    "\n",
    "# 其他常用nan函数\n",
    "print(\"忽略nan的中位数：\", np.nanmedian(data_with_nan))  # 输出 2.0\n",
    "print(\"忽略nan的标准差：\", np.nanstd(data_with_nan))      # 输出 1.870..."
   ]
  },
  {
   "cell_type": "code",
   "execution_count": 46,
   "id": "db09959f-acfb-43e2-ac9d-fe1fad661aa5",
   "metadata": {
    "scrolled": true
   },
   "outputs": [
    {
     "name": "stdout",
     "output_type": "stream",
     "text": [
      "[[1 5.1 3.5 1.4 0.2 'Iris-setosa']\n",
      " [2 4.9 3.0 1.4 0.2 'Iris-setosa']\n",
      " [3 4.7 3.2 1.3 0.2 'Iris-setosa']\n",
      " [4 4.6 3.1 1.5 0.2 'Iris-setosa']\n",
      " [5 5.0 3.6 1.4 0.2 'Iris-setosa']\n",
      " [6 5.4 3.9 1.7 0.4 'Iris-setosa']\n",
      " [7 4.6 3.4 1.4 0.3 'Iris-setosa']\n",
      " [8 5.0 3.4 1.5 0.2 'Iris-setosa']\n",
      " [9 4.4 2.9 1.4 0.2 'Iris-setosa']\n",
      " [10 4.9 3.1 1.5 0.1 'Iris-setosa']\n",
      " [11 5.4 3.7 1.5 0.2 'Iris-setosa']\n",
      " [12 4.8 3.4 1.6 0.2 'Iris-setosa']\n",
      " [13 4.8 3.0 1.4 0.1 'Iris-setosa']\n",
      " [14 4.3 3.0 1.1 0.1 'Iris-setosa']\n",
      " [15 5.8 4.0 1.2 0.2 'Iris-setosa']\n",
      " [16 5.7 4.4 1.5 0.4 'Iris-setosa']\n",
      " [17 5.4 3.9 1.3 0.4 'Iris-setosa']\n",
      " [18 5.1 3.5 1.4 0.3 'Iris-setosa']\n",
      " [19 5.7 3.8 1.7 0.3 'Iris-setosa']\n",
      " [20 5.1 3.8 1.5 0.3 'Iris-setosa']\n",
      " [21 5.4 3.4 1.7 0.2 'Iris-setosa']\n",
      " [22 5.1 3.7 1.5 0.4 'Iris-setosa']\n",
      " [23 4.6 3.6 1.0 0.2 'Iris-setosa']\n",
      " [24 5.1 3.3 1.7 0.5 'Iris-setosa']\n",
      " [25 4.8 3.4 1.9 0.2 'Iris-setosa']\n",
      " [26 5.0 3.0 1.6 0.2 'Iris-setosa']\n",
      " [27 5.0 3.4 1.6 0.4 'Iris-setosa']\n",
      " [28 5.2 3.5 1.5 0.2 'Iris-setosa']\n",
      " [29 5.2 3.4 1.4 0.2 'Iris-setosa']\n",
      " [30 4.7 3.2 1.6 0.2 'Iris-setosa']\n",
      " [31 4.8 3.1 1.6 0.2 'Iris-setosa']\n",
      " [32 5.4 3.4 1.5 0.4 'Iris-setosa']\n",
      " [33 5.2 4.1 1.5 0.1 'Iris-setosa']\n",
      " [34 5.5 4.2 1.4 0.2 'Iris-setosa']\n",
      " [35 4.9 3.1 1.5 0.1 'Iris-setosa']\n",
      " [36 5.0 3.2 1.2 0.2 'Iris-setosa']\n",
      " [37 5.5 3.5 1.3 0.2 'Iris-setosa']\n",
      " [38 4.9 3.1 1.5 0.1 'Iris-setosa']\n",
      " [39 4.4 3.0 1.3 0.2 'Iris-setosa']\n",
      " [40 5.1 3.4 1.5 0.2 'Iris-setosa']\n",
      " [41 5.0 3.5 1.3 0.3 'Iris-setosa']\n",
      " [42 4.5 2.3 1.3 0.3 'Iris-setosa']\n",
      " [43 4.4 3.2 1.3 0.2 'Iris-setosa']\n",
      " [44 5.0 3.5 1.6 0.6 'Iris-setosa']\n",
      " [45 5.1 3.8 1.9 0.4 'Iris-setosa']\n",
      " [46 4.8 3.0 1.4 0.3 'Iris-setosa']\n",
      " [47 5.1 3.8 1.6 0.2 'Iris-setosa']\n",
      " [48 4.6 3.2 1.4 0.2 'Iris-setosa']\n",
      " [49 5.3 3.7 1.5 0.2 'Iris-setosa']\n",
      " [50 5.0 3.3 1.4 0.2 'Iris-setosa']\n",
      " [51 7.0 3.2 4.7 1.4 'Iris-versicolor']\n",
      " [52 6.4 3.2 4.5 1.5 'Iris-versicolor']\n",
      " [53 6.9 3.1 4.9 1.5 'Iris-versicolor']\n",
      " [54 5.5 2.3 4.0 1.3 'Iris-versicolor']\n",
      " [55 6.5 2.8 4.6 1.5 'Iris-versicolor']\n",
      " [56 5.7 2.8 4.5 1.3 'Iris-versicolor']\n",
      " [57 6.3 3.3 4.7 1.6 'Iris-versicolor']\n",
      " [58 4.9 2.4 3.3 1.0 'Iris-versicolor']\n",
      " [59 6.6 2.9 4.6 1.3 'Iris-versicolor']\n",
      " [60 5.2 2.7 3.9 1.4 'Iris-versicolor']\n",
      " [61 5.0 2.0 3.5 1.0 'Iris-versicolor']\n",
      " [62 5.9 3.0 4.2 1.5 'Iris-versicolor']\n",
      " [63 6.0 2.2 4.0 1.0 'Iris-versicolor']\n",
      " [64 6.1 2.9 4.7 1.4 'Iris-versicolor']\n",
      " [65 5.6 2.9 3.6 1.3 'Iris-versicolor']\n",
      " [66 6.7 3.1 4.4 1.4 'Iris-versicolor']\n",
      " [67 5.6 3.0 4.5 1.5 'Iris-versicolor']\n",
      " [68 5.8 2.7 4.1 1.0 'Iris-versicolor']\n",
      " [69 6.2 2.2 4.5 1.5 'Iris-versicolor']\n",
      " [70 5.6 2.5 3.9 1.1 'Iris-versicolor']\n",
      " [71 5.9 3.2 4.8 1.8 'Iris-versicolor']\n",
      " [72 6.1 2.8 4.0 1.3 'Iris-versicolor']\n",
      " [73 6.3 2.5 4.9 1.5 'Iris-versicolor']\n",
      " [74 6.1 2.8 4.7 1.2 'Iris-versicolor']\n",
      " [75 6.4 2.9 4.3 1.3 'Iris-versicolor']\n",
      " [76 6.6 3.0 4.4 1.4 'Iris-versicolor']\n",
      " [77 6.8 2.8 4.8 1.4 'Iris-versicolor']\n",
      " [78 6.7 3.0 5.0 1.7 'Iris-versicolor']\n",
      " [79 6.0 2.9 4.5 1.5 'Iris-versicolor']\n",
      " [80 5.7 2.6 3.5 1.0 'Iris-versicolor']\n",
      " [81 5.5 2.4 3.8 1.1 'Iris-versicolor']\n",
      " [82 5.5 2.4 3.7 1.0 'Iris-versicolor']\n",
      " [83 5.8 2.7 3.9 1.2 'Iris-versicolor']\n",
      " [84 6.0 2.7 5.1 1.6 'Iris-versicolor']\n",
      " [85 5.4 3.0 4.5 1.5 'Iris-versicolor']\n",
      " [86 6.0 3.4 4.5 1.6 'Iris-versicolor']\n",
      " [87 6.7 3.1 4.7 1.5 'Iris-versicolor']\n",
      " [88 6.3 2.3 4.4 1.3 'Iris-versicolor']\n",
      " [89 5.6 3.0 4.1 1.3 'Iris-versicolor']\n",
      " [90 5.5 2.5 4.0 1.3 'Iris-versicolor']\n",
      " [91 5.5 2.6 4.4 1.2 'Iris-versicolor']\n",
      " [92 6.1 3.0 4.6 1.4 'Iris-versicolor']\n",
      " [93 5.8 2.6 4.0 1.2 'Iris-versicolor']\n",
      " [94 5.0 2.3 3.3 1.0 'Iris-versicolor']\n",
      " [95 5.6 2.7 4.2 1.3 'Iris-versicolor']\n",
      " [96 5.7 3.0 4.2 1.2 'Iris-versicolor']\n",
      " [97 5.7 2.9 4.2 1.3 'Iris-versicolor']\n",
      " [98 6.2 2.9 4.3 1.3 'Iris-versicolor']\n",
      " [99 5.1 2.5 3.0 1.1 'Iris-versicolor']\n",
      " [100 5.7 2.8 4.1 1.3 'Iris-versicolor']\n",
      " [101 6.3 3.3 6.0 2.5 'Iris-virginica']\n",
      " [102 5.8 2.7 5.1 1.9 'Iris-virginica']\n",
      " [103 7.1 3.0 5.9 2.1 'Iris-virginica']\n",
      " [104 6.3 2.9 5.6 1.8 'Iris-virginica']\n",
      " [105 6.5 3.0 5.8 2.2 'Iris-virginica']\n",
      " [106 7.6 3.0 6.6 2.1 'Iris-virginica']\n",
      " [107 4.9 2.5 4.5 1.7 'Iris-virginica']\n",
      " [108 7.3 2.9 6.3 1.8 'Iris-virginica']\n",
      " [109 6.7 2.5 5.8 1.8 'Iris-virginica']\n",
      " [110 7.2 3.6 6.1 2.5 'Iris-virginica']\n",
      " [111 6.5 3.2 5.1 2.0 'Iris-virginica']\n",
      " [112 6.4 2.7 5.3 1.9 'Iris-virginica']\n",
      " [113 6.8 3.0 5.5 2.1 'Iris-virginica']\n",
      " [114 5.7 2.5 5.0 2.0 'Iris-virginica']\n",
      " [115 5.8 2.8 5.1 2.4 'Iris-virginica']\n",
      " [116 6.4 3.2 5.3 2.3 'Iris-virginica']\n",
      " [117 6.5 3.0 5.5 1.8 'Iris-virginica']\n",
      " [118 7.7 3.8 6.7 2.2 'Iris-virginica']\n",
      " [119 7.7 2.6 6.9 2.3 'Iris-virginica']\n",
      " [120 6.0 2.2 5.0 1.5 'Iris-virginica']\n",
      " [121 6.9 3.2 5.7 2.3 'Iris-virginica']\n",
      " [122 5.6 2.8 4.9 2.0 'Iris-virginica']\n",
      " [123 7.7 2.8 6.7 2.0 'Iris-virginica']\n",
      " [124 6.3 2.7 4.9 1.8 'Iris-virginica']\n",
      " [125 6.7 3.3 5.7 2.1 'Iris-virginica']\n",
      " [126 7.2 3.2 6.0 1.8 'Iris-virginica']\n",
      " [127 6.2 2.8 4.8 1.8 'Iris-virginica']\n",
      " [128 6.1 3.0 4.9 1.8 'Iris-virginica']\n",
      " [129 6.4 2.8 5.6 2.1 'Iris-virginica']\n",
      " [130 7.2 3.0 5.8 1.6 'Iris-virginica']\n",
      " [131 7.4 2.8 6.1 1.9 'Iris-virginica']\n",
      " [132 7.9 3.8 6.4 2.0 'Iris-virginica']\n",
      " [133 6.4 2.8 5.6 2.2 'Iris-virginica']\n",
      " [134 6.3 2.8 5.1 1.5 'Iris-virginica']\n",
      " [135 6.1 2.6 5.6 1.4 'Iris-virginica']\n",
      " [136 7.7 3.0 6.1 2.3 'Iris-virginica']\n",
      " [137 6.3 3.4 5.6 2.4 'Iris-virginica']\n",
      " [138 6.4 3.1 5.5 1.8 'Iris-virginica']\n",
      " [139 6.0 3.0 4.8 1.8 'Iris-virginica']\n",
      " [140 6.9 3.1 5.4 2.1 'Iris-virginica']\n",
      " [141 6.7 3.1 5.6 2.4 'Iris-virginica']\n",
      " [142 6.9 3.1 5.1 2.3 'Iris-virginica']\n",
      " [143 5.8 2.7 5.1 1.9 'Iris-virginica']\n",
      " [144 6.8 3.2 5.9 2.3 'Iris-virginica']\n",
      " [145 6.7 3.3 5.7 2.5 'Iris-virginica']\n",
      " [146 6.7 3.0 5.2 2.3 'Iris-virginica']\n",
      " [147 6.3 2.5 5.0 1.9 'Iris-virginica']\n",
      " [148 6.5 3.0 5.2 2.0 'Iris-virginica']\n",
      " [149 6.2 3.4 5.4 2.3 'Iris-virginica']\n",
      " [150 5.9 3.0 5.1 1.8 'Iris-virginica']]\n"
     ]
    }
   ],
   "source": [
    "# 假设CSV文件内容：\n",
    "# 1,2,\n",
    "# 4,,6\n",
    "# （第1行第3列、第2行第2列是空值）\n",
    "import pandas as pd\n",
    "data = pd.read_csv(r\"C:\\Users\\77386\\Downloads\\Iris.csv\").to_numpy()  # 转换为NumPy数组\n",
    "print(data)"
   ]
  },
  {
   "cell_type": "code",
   "execution_count": 3,
   "id": "a841eded-ee8b-4c08-adec-9d6710e9bffb",
   "metadata": {},
   "outputs": [
    {
     "name": "stdout",
     "output_type": "stream",
     "text": [
      "[ 1.  2.  3. nan  5.]\n",
      "[ True  True  True]\n",
      "0\n",
      "2.0\n"
     ]
    }
   ],
   "source": [
    "data = np.array([1, 2, 3, 1000, 5],dtype=float)  # 1000是异常值\n",
    "data[data > 100] = np.nan  # 用nan标记异常值\n",
    "print(data)  # 输出 [  1.   2.   3.  nan   5.]\n",
    "data = np.array([np.nan, np.nan, np.nan])  # 全是缺失值\n",
    "data_part_nan = np.array([1, np.nan, 3])\n",
    "print(np.isnan(data))     # 检测\n",
    "\n",
    "def safe_nanmean(arr, default=0):\n",
    "    \"\"\"安全计算含nan数组的均值，全为nan时返回default\"\"\"\n",
    "    if np.isnan(arr).all():  # 检查是否所有元素都是nan\n",
    "        return default       # 全为nan时返回默认值\n",
    "    else:\n",
    "        return np.nanmean(arr)  # 否则正常计算\n",
    "\n",
    "# 测试全缺失数组\n",
    "print(safe_nanmean(data))  # 输出 0（无警告）\n",
    "\n",
    "# 测试含部分缺失的数组\n",
    "print(safe_nanmean(data_part_nan))  # 输出 2.0（正常计算）"
   ]
  },
  {
   "cell_type": "code",
   "execution_count": 5,
   "id": "98fb0408-e927-466c-b07d-1ee0e16f7364",
   "metadata": {},
   "outputs": [
    {
     "name": "stdout",
     "output_type": "stream",
     "text": [
      "错误：全部缺失\n",
      "3.0\n"
     ]
    }
   ],
   "source": [
    "import numpy as np\n",
    "import warnings\n",
    "\n",
    "def safe_nanmean_v2(arr, default=\"错误：全部缺失\"):\n",
    "    with warnings.catch_warnings():\n",
    "        # 捕获“空切片均值”的警告\n",
    "        warnings.filterwarnings(\"error\", category=RuntimeWarning, message=\"Mean of empty slice\")\n",
    "        try:\n",
    "            return np.nanmean(arr)\n",
    "        except RuntimeWarning:  # 触发警告时，返回默认值\n",
    "            return default\n",
    "\n",
    "# 测试\n",
    "print(safe_nanmean_v2(np.array([np.nan, np.nan])))  # 输出 0（无警告）\n",
    "print(safe_nanmean_v2(np.array([2, np.nan, 4])))    # 输出 3.0"
   ]
  }
 ],
 "metadata": {
  "kernelspec": {
   "display_name": "Python [conda env:base] *",
   "language": "python",
   "name": "conda-base-py"
  },
  "language_info": {
   "codemirror_mode": {
    "name": "ipython",
    "version": 3
   },
   "file_extension": ".py",
   "mimetype": "text/x-python",
   "name": "python",
   "nbconvert_exporter": "python",
   "pygments_lexer": "ipython3",
   "version": "3.13.5"
  }
 },
 "nbformat": 4,
 "nbformat_minor": 5
}
